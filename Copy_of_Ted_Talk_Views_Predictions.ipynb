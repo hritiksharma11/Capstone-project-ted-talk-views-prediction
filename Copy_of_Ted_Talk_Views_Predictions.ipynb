{
  "nbformat": 4,
  "nbformat_minor": 0,
  "metadata": {
    "colab": {
      "provenance": [],
      "collapsed_sections": []
    },
    "kernelspec": {
      "name": "python3",
      "display_name": "Python 3"
    },
    "language_info": {
      "name": "python"
    }
  },
  "cells": [
    {
      "cell_type": "markdown",
      "source": [
        "# **Problem Statement**"
      ],
      "metadata": {
        "id": "DIQa8FCZq4Qm"
      }
    },
    {
      "cell_type": "markdown",
      "source": [
        "##**\"TED is devoted to spreading powerful ideas on just about any topic. These datasets contain over 4,000 TED talks including transcripts in many languages.Founded in 1984 by Richard Salman as a nonprofit organization that aimed at bringing experts from the fields of Technology, Entertainment, and Design together, TED Conferences have gone on to become the Mecca of ideas from virtually all walks of life. As of 2015, TED and its sister TEDx chapters have published more than 2000 talks for free consumption by the masses and its speaker list boasts of the likes of Al Gore, Jimmy Wales, Shahrukh Khan, and Bill Gates. The main objective is to build a predictive model, which could help in predicting the views of the videos uploaded on the TEDx website.\"**"
      ],
      "metadata": {
        "id": "CvV5bNPJ09UZ"
      }
    },
    {
      "cell_type": "markdown",
      "source": [
        "## **Data Defination**"
      ],
      "metadata": {
        "id": "-byhr93uG03d"
      }
    },
    {
      "cell_type": "markdown",
      "source": [
        "##***Attribute : Description (Data Type)***\n",
        "\n",
        "***talk_id Talk*** : identification\n",
        "number provided by\n",
        "TED (int)\n",
        "\n",
        "***title*** : Title of the talk (string)\n",
        "\n",
        "***speaker_1*** : First speaker in TED's\n",
        "speaker list (string)\n",
        "\n",
        "***speakers*** : Speakers in the talk (dictionary)\n",
        "\n",
        "***occupations*** : Occupations of the\n",
        "speakers (dictionary)\n",
        "\n",
        "***about_speakers*** : Blurb about each\n",
        "speaker (dictionary)\n",
        "\n",
        "***views(Dependent\n",
        "Variable)*** : Count of views / (int)\n",
        "\n",
        "***recorded_date*** : Date the talk was\n",
        "recorded (string) \n",
        "\n",
        "***published_date*** : Date the talk was\n",
        "published to TED.com (string)\n",
        "\n",
        "***event*** : Event or medium in\n",
        "which the talk was given (string)\n",
        "\n",
        "***native_lang*** Language the talk was\n",
        "given in (string)\n",
        "\n",
        "***available_lang*** : All available languages\n",
        "(lang_code) for a talk (list)\n",
        "\n",
        "***comments*** : Count of comments (int)\n",
        "\n",
        "***duration*** : Duration in seconds (int)\n",
        "\n",
        "***topics*** : Related tags or topics for the talk (list)\n",
        "\n",
        "***related_talks*** : Related talks\n",
        "(key='talk_id',\n",
        "value='title') (dictionary)\n",
        "\n",
        "***url*** : URL of the talk (string)\n",
        "\n",
        "***description*** : Description of the talk (string)\n",
        "\n",
        "***transcript*** : Full transcript of the talk (string)\n",
        "\n",
        "****The dictionary key maps to the speaker in ‘speakers’.***"
      ],
      "metadata": {
        "id": "w9X_cVoE19lP"
      }
    },
    {
      "cell_type": "markdown",
      "source": [
        "##**Importing Packages**"
      ],
      "metadata": {
        "id": "PkWo7orhrdkn"
      }
    },
    {
      "cell_type": "code",
      "source": [
        "import numpy as np\n",
        "import pandas as pd\n",
        "import matplotlib.pyplot as plt\n",
        "import seaborn as sns\n",
        "from numpy import math\n",
        "from sklearn.linear_model import LinearRegression\n",
        "from sklearn.preprocessing import StandardScaler\n",
        "from sklearn.preprocessing import MinMaxScaler\n",
        "from sklearn.feature_selection import f_regression\n",
        "from sklearn.metrics import r2_score\n",
        "from sklearn.metrics import mean_squared_error\n",
        "from sklearn.metrics import mean_absolute_percentage_error\n",
        "from sklearn.model_selection import train_test_split\n",
        "from statsmodels.stats.outliers_influence import variance_inflation_factor\n",
        "from sklearn.model_selection import GridSearchCV\n",
        "from sklearn.linear_model import Lasso\n",
        "from sklearn.linear_model import Ridge\n",
        "from sklearn.linear_model import ElasticNet\n",
        "sns.set() \n",
        "import ast"
      ],
      "metadata": {
        "id": "g0W76-hwACSW"
      },
      "execution_count": null,
      "outputs": []
    },
    {
      "cell_type": "code",
      "source": [
        "sns.set_style('darkgrid')\n",
        "plt.rcParams['font.size'] = 14\n",
        "plt.rcParams['figure.figsize'] = (7,4)\n",
        "plt.rcParams['figure.facecolor'] = '#00000000'\n",
        "\n",
        "import warnings\n",
        "warnings.filterwarnings('ignore')"
      ],
      "metadata": {
        "id": "SoPjf7RfpQV1"
      },
      "execution_count": null,
      "outputs": []
    },
    {
      "cell_type": "code",
      "source": [
        "from google.colab import drive\n",
        "drive.mount('/content/drive')"
      ],
      "metadata": {
        "colab": {
          "base_uri": "https://localhost:8080/"
        },
        "id": "tRBMNgFUbkkg",
        "outputId": "6086bed7-7e90-44f8-a04c-50502e9d6e81"
      },
      "execution_count": null,
      "outputs": [
        {
          "output_type": "stream",
          "name": "stdout",
          "text": [
            "Drive already mounted at /content/drive; to attempt to forcibly remount, call drive.mount(\"/content/drive\", force_remount=True).\n"
          ]
        }
      ]
    },
    {
      "cell_type": "code",
      "source": [
        "raw_data=pd.read_csv(\"/content/drive/MyDrive/ALMABETTER CAPSTONE PROJECTS/Copy of data_ted_talks.csv\")"
      ],
      "metadata": {
        "id": "KQdCRM4xACQA"
      },
      "execution_count": null,
      "outputs": []
    },
    {
      "cell_type": "markdown",
      "source": [
        "## ***Lets first describe our data.*** "
      ],
      "metadata": {
        "id": "d45dpieoahpa"
      }
    },
    {
      "cell_type": "code",
      "source": [
        "raw_data.head()"
      ],
      "metadata": {
        "colab": {
          "base_uri": "https://localhost:8080/",
          "height": 634
        },
        "id": "vG5EixQnACNX",
        "outputId": "09680f13-16a9-4d24-9cd8-ad0810772ae2"
      },
      "execution_count": null,
      "outputs": [
        {
          "output_type": "execute_result",
          "data": {
            "text/plain": [
              "   talk_id                            title         speaker_1  \\\n",
              "0        1      Averting the climate crisis           Al Gore   \n",
              "1       92  The best stats you've ever seen      Hans Rosling   \n",
              "2        7                 Simplicity sells       David Pogue   \n",
              "3       53              Greening the ghetto     Majora Carter   \n",
              "4       66      Do schools kill creativity?  Sir Ken Robinson   \n",
              "\n",
              "              all_speakers                                    occupations  \\\n",
              "0           {0: 'Al Gore'}                      {0: ['climate advocate']}   \n",
              "1      {0: 'Hans Rosling'}  {0: ['global health expert; data visionary']}   \n",
              "2       {0: 'David Pogue'}                  {0: ['technology columnist']}   \n",
              "3     {0: 'Majora Carter'}    {0: ['activist for environmental justice']}   \n",
              "4  {0: 'Sir Ken Robinson'}                    {0: ['author', 'educator']}   \n",
              "\n",
              "                                      about_speakers     views recorded_date  \\\n",
              "0  {0: 'Nobel Laureate Al Gore focused the world’...   3523392    2006-02-25   \n",
              "1  {0: 'In Hans Rosling’s hands, data sings. Glob...  14501685    2006-02-22   \n",
              "2  {0: 'David Pogue is the personal technology co...   1920832    2006-02-24   \n",
              "3  {0: 'Majora Carter redefined the field of envi...   2664069    2006-02-26   \n",
              "4  {0: \"Creativity expert Sir Ken Robinson challe...  65051954    2006-02-25   \n",
              "\n",
              "  published_date    event native_lang  \\\n",
              "0     2006-06-27  TED2006          en   \n",
              "1     2006-06-27  TED2006          en   \n",
              "2     2006-06-27  TED2006          en   \n",
              "3     2006-06-27  TED2006          en   \n",
              "4     2006-06-27  TED2006          en   \n",
              "\n",
              "                                      available_lang  comments  duration  \\\n",
              "0  ['ar', 'bg', 'cs', 'de', 'el', 'en', 'es', 'fa...     272.0       977   \n",
              "1  ['ar', 'az', 'bg', 'bn', 'bs', 'cs', 'da', 'de...     628.0      1190   \n",
              "2  ['ar', 'bg', 'de', 'el', 'en', 'es', 'fa', 'fr...     124.0      1286   \n",
              "3  ['ar', 'bg', 'bn', 'ca', 'cs', 'de', 'en', 'es...     219.0      1116   \n",
              "4  ['af', 'ar', 'az', 'be', 'bg', 'bn', 'ca', 'cs...    4931.0      1164   \n",
              "\n",
              "                                              topics  \\\n",
              "0  ['alternative energy', 'cars', 'climate change...   \n",
              "1  ['Africa', 'Asia', 'Google', 'demo', 'economic...   \n",
              "2  ['computers', 'entertainment', 'interface desi...   \n",
              "3  ['MacArthur grant', 'activism', 'business', 'c...   \n",
              "4  ['children', 'creativity', 'culture', 'dance',...   \n",
              "\n",
              "                                       related_talks  \\\n",
              "0  {243: 'New thinking on the climate crisis', 54...   \n",
              "1  {2056: \"Own your body's data\", 2296: 'A visual...   \n",
              "2  {1725: '10 top time-saving tech tips', 2274: '...   \n",
              "3  {1041: '3 stories of local eco-entrepreneurshi...   \n",
              "4  {865: 'Bring on the learning revolution!', 173...   \n",
              "\n",
              "                                                 url  \\\n",
              "0  https://www.ted.com/talks/al_gore_averting_the...   \n",
              "1  https://www.ted.com/talks/hans_rosling_the_bes...   \n",
              "2  https://www.ted.com/talks/david_pogue_simplici...   \n",
              "3  https://www.ted.com/talks/majora_carter_greeni...   \n",
              "4  https://www.ted.com/talks/sir_ken_robinson_do_...   \n",
              "\n",
              "                                         description  \\\n",
              "0  With the same humor and humanity he exuded in ...   \n",
              "1  You've never seen data presented like this. Wi...   \n",
              "2  New York Times columnist David Pogue takes aim...   \n",
              "3  In an emotionally charged talk, MacArthur-winn...   \n",
              "4  Sir Ken Robinson makes an entertaining and pro...   \n",
              "\n",
              "                                          transcript  \n",
              "0  Thank you so much, Chris. And it's truly a gre...  \n",
              "1  About 10 years ago, I took on the task to teac...  \n",
              "2  (Music: \"The Sound of Silence,\" Simon & Garfun...  \n",
              "3  If you're here today — and I'm very happy that...  \n",
              "4  Good morning. How are you? (Audience) Good. It...  "
            ],
            "text/html": [
              "\n",
              "  <div id=\"df-3280dd04-e6ed-4215-8c4f-0380682cf29a\">\n",
              "    <div class=\"colab-df-container\">\n",
              "      <div>\n",
              "<style scoped>\n",
              "    .dataframe tbody tr th:only-of-type {\n",
              "        vertical-align: middle;\n",
              "    }\n",
              "\n",
              "    .dataframe tbody tr th {\n",
              "        vertical-align: top;\n",
              "    }\n",
              "\n",
              "    .dataframe thead th {\n",
              "        text-align: right;\n",
              "    }\n",
              "</style>\n",
              "<table border=\"1\" class=\"dataframe\">\n",
              "  <thead>\n",
              "    <tr style=\"text-align: right;\">\n",
              "      <th></th>\n",
              "      <th>talk_id</th>\n",
              "      <th>title</th>\n",
              "      <th>speaker_1</th>\n",
              "      <th>all_speakers</th>\n",
              "      <th>occupations</th>\n",
              "      <th>about_speakers</th>\n",
              "      <th>views</th>\n",
              "      <th>recorded_date</th>\n",
              "      <th>published_date</th>\n",
              "      <th>event</th>\n",
              "      <th>native_lang</th>\n",
              "      <th>available_lang</th>\n",
              "      <th>comments</th>\n",
              "      <th>duration</th>\n",
              "      <th>topics</th>\n",
              "      <th>related_talks</th>\n",
              "      <th>url</th>\n",
              "      <th>description</th>\n",
              "      <th>transcript</th>\n",
              "    </tr>\n",
              "  </thead>\n",
              "  <tbody>\n",
              "    <tr>\n",
              "      <th>0</th>\n",
              "      <td>1</td>\n",
              "      <td>Averting the climate crisis</td>\n",
              "      <td>Al Gore</td>\n",
              "      <td>{0: 'Al Gore'}</td>\n",
              "      <td>{0: ['climate advocate']}</td>\n",
              "      <td>{0: 'Nobel Laureate Al Gore focused the world’...</td>\n",
              "      <td>3523392</td>\n",
              "      <td>2006-02-25</td>\n",
              "      <td>2006-06-27</td>\n",
              "      <td>TED2006</td>\n",
              "      <td>en</td>\n",
              "      <td>['ar', 'bg', 'cs', 'de', 'el', 'en', 'es', 'fa...</td>\n",
              "      <td>272.0</td>\n",
              "      <td>977</td>\n",
              "      <td>['alternative energy', 'cars', 'climate change...</td>\n",
              "      <td>{243: 'New thinking on the climate crisis', 54...</td>\n",
              "      <td>https://www.ted.com/talks/al_gore_averting_the...</td>\n",
              "      <td>With the same humor and humanity he exuded in ...</td>\n",
              "      <td>Thank you so much, Chris. And it's truly a gre...</td>\n",
              "    </tr>\n",
              "    <tr>\n",
              "      <th>1</th>\n",
              "      <td>92</td>\n",
              "      <td>The best stats you've ever seen</td>\n",
              "      <td>Hans Rosling</td>\n",
              "      <td>{0: 'Hans Rosling'}</td>\n",
              "      <td>{0: ['global health expert; data visionary']}</td>\n",
              "      <td>{0: 'In Hans Rosling’s hands, data sings. Glob...</td>\n",
              "      <td>14501685</td>\n",
              "      <td>2006-02-22</td>\n",
              "      <td>2006-06-27</td>\n",
              "      <td>TED2006</td>\n",
              "      <td>en</td>\n",
              "      <td>['ar', 'az', 'bg', 'bn', 'bs', 'cs', 'da', 'de...</td>\n",
              "      <td>628.0</td>\n",
              "      <td>1190</td>\n",
              "      <td>['Africa', 'Asia', 'Google', 'demo', 'economic...</td>\n",
              "      <td>{2056: \"Own your body's data\", 2296: 'A visual...</td>\n",
              "      <td>https://www.ted.com/talks/hans_rosling_the_bes...</td>\n",
              "      <td>You've never seen data presented like this. Wi...</td>\n",
              "      <td>About 10 years ago, I took on the task to teac...</td>\n",
              "    </tr>\n",
              "    <tr>\n",
              "      <th>2</th>\n",
              "      <td>7</td>\n",
              "      <td>Simplicity sells</td>\n",
              "      <td>David Pogue</td>\n",
              "      <td>{0: 'David Pogue'}</td>\n",
              "      <td>{0: ['technology columnist']}</td>\n",
              "      <td>{0: 'David Pogue is the personal technology co...</td>\n",
              "      <td>1920832</td>\n",
              "      <td>2006-02-24</td>\n",
              "      <td>2006-06-27</td>\n",
              "      <td>TED2006</td>\n",
              "      <td>en</td>\n",
              "      <td>['ar', 'bg', 'de', 'el', 'en', 'es', 'fa', 'fr...</td>\n",
              "      <td>124.0</td>\n",
              "      <td>1286</td>\n",
              "      <td>['computers', 'entertainment', 'interface desi...</td>\n",
              "      <td>{1725: '10 top time-saving tech tips', 2274: '...</td>\n",
              "      <td>https://www.ted.com/talks/david_pogue_simplici...</td>\n",
              "      <td>New York Times columnist David Pogue takes aim...</td>\n",
              "      <td>(Music: \"The Sound of Silence,\" Simon &amp; Garfun...</td>\n",
              "    </tr>\n",
              "    <tr>\n",
              "      <th>3</th>\n",
              "      <td>53</td>\n",
              "      <td>Greening the ghetto</td>\n",
              "      <td>Majora Carter</td>\n",
              "      <td>{0: 'Majora Carter'}</td>\n",
              "      <td>{0: ['activist for environmental justice']}</td>\n",
              "      <td>{0: 'Majora Carter redefined the field of envi...</td>\n",
              "      <td>2664069</td>\n",
              "      <td>2006-02-26</td>\n",
              "      <td>2006-06-27</td>\n",
              "      <td>TED2006</td>\n",
              "      <td>en</td>\n",
              "      <td>['ar', 'bg', 'bn', 'ca', 'cs', 'de', 'en', 'es...</td>\n",
              "      <td>219.0</td>\n",
              "      <td>1116</td>\n",
              "      <td>['MacArthur grant', 'activism', 'business', 'c...</td>\n",
              "      <td>{1041: '3 stories of local eco-entrepreneurshi...</td>\n",
              "      <td>https://www.ted.com/talks/majora_carter_greeni...</td>\n",
              "      <td>In an emotionally charged talk, MacArthur-winn...</td>\n",
              "      <td>If you're here today — and I'm very happy that...</td>\n",
              "    </tr>\n",
              "    <tr>\n",
              "      <th>4</th>\n",
              "      <td>66</td>\n",
              "      <td>Do schools kill creativity?</td>\n",
              "      <td>Sir Ken Robinson</td>\n",
              "      <td>{0: 'Sir Ken Robinson'}</td>\n",
              "      <td>{0: ['author', 'educator']}</td>\n",
              "      <td>{0: \"Creativity expert Sir Ken Robinson challe...</td>\n",
              "      <td>65051954</td>\n",
              "      <td>2006-02-25</td>\n",
              "      <td>2006-06-27</td>\n",
              "      <td>TED2006</td>\n",
              "      <td>en</td>\n",
              "      <td>['af', 'ar', 'az', 'be', 'bg', 'bn', 'ca', 'cs...</td>\n",
              "      <td>4931.0</td>\n",
              "      <td>1164</td>\n",
              "      <td>['children', 'creativity', 'culture', 'dance',...</td>\n",
              "      <td>{865: 'Bring on the learning revolution!', 173...</td>\n",
              "      <td>https://www.ted.com/talks/sir_ken_robinson_do_...</td>\n",
              "      <td>Sir Ken Robinson makes an entertaining and pro...</td>\n",
              "      <td>Good morning. How are you? (Audience) Good. It...</td>\n",
              "    </tr>\n",
              "  </tbody>\n",
              "</table>\n",
              "</div>\n",
              "      <button class=\"colab-df-convert\" onclick=\"convertToInteractive('df-3280dd04-e6ed-4215-8c4f-0380682cf29a')\"\n",
              "              title=\"Convert this dataframe to an interactive table.\"\n",
              "              style=\"display:none;\">\n",
              "        \n",
              "  <svg xmlns=\"http://www.w3.org/2000/svg\" height=\"24px\"viewBox=\"0 0 24 24\"\n",
              "       width=\"24px\">\n",
              "    <path d=\"M0 0h24v24H0V0z\" fill=\"none\"/>\n",
              "    <path d=\"M18.56 5.44l.94 2.06.94-2.06 2.06-.94-2.06-.94-.94-2.06-.94 2.06-2.06.94zm-11 1L8.5 8.5l.94-2.06 2.06-.94-2.06-.94L8.5 2.5l-.94 2.06-2.06.94zm10 10l.94 2.06.94-2.06 2.06-.94-2.06-.94-.94-2.06-.94 2.06-2.06.94z\"/><path d=\"M17.41 7.96l-1.37-1.37c-.4-.4-.92-.59-1.43-.59-.52 0-1.04.2-1.43.59L10.3 9.45l-7.72 7.72c-.78.78-.78 2.05 0 2.83L4 21.41c.39.39.9.59 1.41.59.51 0 1.02-.2 1.41-.59l7.78-7.78 2.81-2.81c.8-.78.8-2.07 0-2.86zM5.41 20L4 18.59l7.72-7.72 1.47 1.35L5.41 20z\"/>\n",
              "  </svg>\n",
              "      </button>\n",
              "      \n",
              "  <style>\n",
              "    .colab-df-container {\n",
              "      display:flex;\n",
              "      flex-wrap:wrap;\n",
              "      gap: 12px;\n",
              "    }\n",
              "\n",
              "    .colab-df-convert {\n",
              "      background-color: #E8F0FE;\n",
              "      border: none;\n",
              "      border-radius: 50%;\n",
              "      cursor: pointer;\n",
              "      display: none;\n",
              "      fill: #1967D2;\n",
              "      height: 32px;\n",
              "      padding: 0 0 0 0;\n",
              "      width: 32px;\n",
              "    }\n",
              "\n",
              "    .colab-df-convert:hover {\n",
              "      background-color: #E2EBFA;\n",
              "      box-shadow: 0px 1px 2px rgba(60, 64, 67, 0.3), 0px 1px 3px 1px rgba(60, 64, 67, 0.15);\n",
              "      fill: #174EA6;\n",
              "    }\n",
              "\n",
              "    [theme=dark] .colab-df-convert {\n",
              "      background-color: #3B4455;\n",
              "      fill: #D2E3FC;\n",
              "    }\n",
              "\n",
              "    [theme=dark] .colab-df-convert:hover {\n",
              "      background-color: #434B5C;\n",
              "      box-shadow: 0px 1px 3px 1px rgba(0, 0, 0, 0.15);\n",
              "      filter: drop-shadow(0px 1px 2px rgba(0, 0, 0, 0.3));\n",
              "      fill: #FFFFFF;\n",
              "    }\n",
              "  </style>\n",
              "\n",
              "      <script>\n",
              "        const buttonEl =\n",
              "          document.querySelector('#df-3280dd04-e6ed-4215-8c4f-0380682cf29a button.colab-df-convert');\n",
              "        buttonEl.style.display =\n",
              "          google.colab.kernel.accessAllowed ? 'block' : 'none';\n",
              "\n",
              "        async function convertToInteractive(key) {\n",
              "          const element = document.querySelector('#df-3280dd04-e6ed-4215-8c4f-0380682cf29a');\n",
              "          const dataTable =\n",
              "            await google.colab.kernel.invokeFunction('convertToInteractive',\n",
              "                                                     [key], {});\n",
              "          if (!dataTable) return;\n",
              "\n",
              "          const docLinkHtml = 'Like what you see? Visit the ' +\n",
              "            '<a target=\"_blank\" href=https://colab.research.google.com/notebooks/data_table.ipynb>data table notebook</a>'\n",
              "            + ' to learn more about interactive tables.';\n",
              "          element.innerHTML = '';\n",
              "          dataTable['output_type'] = 'display_data';\n",
              "          await google.colab.output.renderOutput(dataTable, element);\n",
              "          const docLink = document.createElement('div');\n",
              "          docLink.innerHTML = docLinkHtml;\n",
              "          element.appendChild(docLink);\n",
              "        }\n",
              "      </script>\n",
              "    </div>\n",
              "  </div>\n",
              "  "
            ]
          },
          "metadata": {},
          "execution_count": 10
        }
      ]
    },
    {
      "cell_type": "markdown",
      "source": [
        "### **Checking for null values**"
      ],
      "metadata": {
        "id": "lNYDlS_HK2AQ"
      }
    },
    {
      "cell_type": "code",
      "source": [
        "raw_data.isna().sum()"
      ],
      "metadata": {
        "colab": {
          "base_uri": "https://localhost:8080/"
        },
        "id": "A87zaCcsBiQG",
        "outputId": "3b6958d4-00a2-48d8-a0f2-5a75e95a1d86"
      },
      "execution_count": null,
      "outputs": [
        {
          "output_type": "execute_result",
          "data": {
            "text/plain": [
              "talk_id             0\n",
              "title               0\n",
              "speaker_1           0\n",
              "all_speakers        4\n",
              "occupations       522\n",
              "about_speakers    503\n",
              "views               0\n",
              "recorded_date       1\n",
              "published_date      0\n",
              "event               0\n",
              "native_lang         0\n",
              "available_lang      0\n",
              "comments          655\n",
              "duration            0\n",
              "topics              0\n",
              "related_talks       0\n",
              "url                 0\n",
              "description         0\n",
              "transcript          0\n",
              "dtype: int64"
            ]
          },
          "metadata": {},
          "execution_count": 11
        }
      ]
    },
    {
      "cell_type": "markdown",
      "source": [
        "### **Checking for Duplicate values**"
      ],
      "metadata": {
        "id": "PU9b_FcSLGbq"
      }
    },
    {
      "cell_type": "code",
      "source": [
        "# Duplicate values check\n",
        "print(raw_data.duplicated().sum())"
      ],
      "metadata": {
        "colab": {
          "base_uri": "https://localhost:8080/"
        },
        "id": "2nL3HmmVDS67",
        "outputId": "4b4575e8-e8c0-43d3-e995-d30873a8e768"
      },
      "execution_count": null,
      "outputs": [
        {
          "output_type": "stream",
          "name": "stdout",
          "text": [
            "0\n"
          ]
        }
      ]
    },
    {
      "cell_type": "markdown",
      "source": [
        "#**Now we can start our Exploratory Data Analysis**"
      ],
      "metadata": {
        "id": "F6_ccIT7a_xj"
      }
    },
    {
      "cell_type": "code",
      "source": [
        "raw_data.describe()"
      ],
      "metadata": {
        "colab": {
          "base_uri": "https://localhost:8080/",
          "height": 300
        },
        "id": "NoF9kioNBiSx",
        "outputId": "1c7b5b76-2e96-41c4-faa7-0df1d91f4467"
      },
      "execution_count": null,
      "outputs": [
        {
          "output_type": "execute_result",
          "data": {
            "text/plain": [
              "            talk_id         views     comments     duration\n",
              "count   4005.000000  4.005000e+03  3350.000000  4005.000000\n",
              "mean   12432.538327  2.148006e+06   161.997015   724.011236\n",
              "std    17447.576262  3.451226e+06   268.838922   361.775462\n",
              "min        1.000000  0.000000e+00     0.000000    60.000000\n",
              "25%     1252.000000  8.820690e+05    38.000000   393.000000\n",
              "50%     2333.000000  1.375508e+06    89.000000   738.000000\n",
              "75%    23777.000000  2.133110e+06   188.000000   974.000000\n",
              "max    62794.000000  6.505195e+07  6449.000000  3922.000000"
            ],
            "text/html": [
              "\n",
              "  <div id=\"df-78a3daad-e523-456e-b35e-ef5423fe9449\">\n",
              "    <div class=\"colab-df-container\">\n",
              "      <div>\n",
              "<style scoped>\n",
              "    .dataframe tbody tr th:only-of-type {\n",
              "        vertical-align: middle;\n",
              "    }\n",
              "\n",
              "    .dataframe tbody tr th {\n",
              "        vertical-align: top;\n",
              "    }\n",
              "\n",
              "    .dataframe thead th {\n",
              "        text-align: right;\n",
              "    }\n",
              "</style>\n",
              "<table border=\"1\" class=\"dataframe\">\n",
              "  <thead>\n",
              "    <tr style=\"text-align: right;\">\n",
              "      <th></th>\n",
              "      <th>talk_id</th>\n",
              "      <th>views</th>\n",
              "      <th>comments</th>\n",
              "      <th>duration</th>\n",
              "    </tr>\n",
              "  </thead>\n",
              "  <tbody>\n",
              "    <tr>\n",
              "      <th>count</th>\n",
              "      <td>4005.000000</td>\n",
              "      <td>4.005000e+03</td>\n",
              "      <td>3350.000000</td>\n",
              "      <td>4005.000000</td>\n",
              "    </tr>\n",
              "    <tr>\n",
              "      <th>mean</th>\n",
              "      <td>12432.538327</td>\n",
              "      <td>2.148006e+06</td>\n",
              "      <td>161.997015</td>\n",
              "      <td>724.011236</td>\n",
              "    </tr>\n",
              "    <tr>\n",
              "      <th>std</th>\n",
              "      <td>17447.576262</td>\n",
              "      <td>3.451226e+06</td>\n",
              "      <td>268.838922</td>\n",
              "      <td>361.775462</td>\n",
              "    </tr>\n",
              "    <tr>\n",
              "      <th>min</th>\n",
              "      <td>1.000000</td>\n",
              "      <td>0.000000e+00</td>\n",
              "      <td>0.000000</td>\n",
              "      <td>60.000000</td>\n",
              "    </tr>\n",
              "    <tr>\n",
              "      <th>25%</th>\n",
              "      <td>1252.000000</td>\n",
              "      <td>8.820690e+05</td>\n",
              "      <td>38.000000</td>\n",
              "      <td>393.000000</td>\n",
              "    </tr>\n",
              "    <tr>\n",
              "      <th>50%</th>\n",
              "      <td>2333.000000</td>\n",
              "      <td>1.375508e+06</td>\n",
              "      <td>89.000000</td>\n",
              "      <td>738.000000</td>\n",
              "    </tr>\n",
              "    <tr>\n",
              "      <th>75%</th>\n",
              "      <td>23777.000000</td>\n",
              "      <td>2.133110e+06</td>\n",
              "      <td>188.000000</td>\n",
              "      <td>974.000000</td>\n",
              "    </tr>\n",
              "    <tr>\n",
              "      <th>max</th>\n",
              "      <td>62794.000000</td>\n",
              "      <td>6.505195e+07</td>\n",
              "      <td>6449.000000</td>\n",
              "      <td>3922.000000</td>\n",
              "    </tr>\n",
              "  </tbody>\n",
              "</table>\n",
              "</div>\n",
              "      <button class=\"colab-df-convert\" onclick=\"convertToInteractive('df-78a3daad-e523-456e-b35e-ef5423fe9449')\"\n",
              "              title=\"Convert this dataframe to an interactive table.\"\n",
              "              style=\"display:none;\">\n",
              "        \n",
              "  <svg xmlns=\"http://www.w3.org/2000/svg\" height=\"24px\"viewBox=\"0 0 24 24\"\n",
              "       width=\"24px\">\n",
              "    <path d=\"M0 0h24v24H0V0z\" fill=\"none\"/>\n",
              "    <path d=\"M18.56 5.44l.94 2.06.94-2.06 2.06-.94-2.06-.94-.94-2.06-.94 2.06-2.06.94zm-11 1L8.5 8.5l.94-2.06 2.06-.94-2.06-.94L8.5 2.5l-.94 2.06-2.06.94zm10 10l.94 2.06.94-2.06 2.06-.94-2.06-.94-.94-2.06-.94 2.06-2.06.94z\"/><path d=\"M17.41 7.96l-1.37-1.37c-.4-.4-.92-.59-1.43-.59-.52 0-1.04.2-1.43.59L10.3 9.45l-7.72 7.72c-.78.78-.78 2.05 0 2.83L4 21.41c.39.39.9.59 1.41.59.51 0 1.02-.2 1.41-.59l7.78-7.78 2.81-2.81c.8-.78.8-2.07 0-2.86zM5.41 20L4 18.59l7.72-7.72 1.47 1.35L5.41 20z\"/>\n",
              "  </svg>\n",
              "      </button>\n",
              "      \n",
              "  <style>\n",
              "    .colab-df-container {\n",
              "      display:flex;\n",
              "      flex-wrap:wrap;\n",
              "      gap: 12px;\n",
              "    }\n",
              "\n",
              "    .colab-df-convert {\n",
              "      background-color: #E8F0FE;\n",
              "      border: none;\n",
              "      border-radius: 50%;\n",
              "      cursor: pointer;\n",
              "      display: none;\n",
              "      fill: #1967D2;\n",
              "      height: 32px;\n",
              "      padding: 0 0 0 0;\n",
              "      width: 32px;\n",
              "    }\n",
              "\n",
              "    .colab-df-convert:hover {\n",
              "      background-color: #E2EBFA;\n",
              "      box-shadow: 0px 1px 2px rgba(60, 64, 67, 0.3), 0px 1px 3px 1px rgba(60, 64, 67, 0.15);\n",
              "      fill: #174EA6;\n",
              "    }\n",
              "\n",
              "    [theme=dark] .colab-df-convert {\n",
              "      background-color: #3B4455;\n",
              "      fill: #D2E3FC;\n",
              "    }\n",
              "\n",
              "    [theme=dark] .colab-df-convert:hover {\n",
              "      background-color: #434B5C;\n",
              "      box-shadow: 0px 1px 3px 1px rgba(0, 0, 0, 0.15);\n",
              "      filter: drop-shadow(0px 1px 2px rgba(0, 0, 0, 0.3));\n",
              "      fill: #FFFFFF;\n",
              "    }\n",
              "  </style>\n",
              "\n",
              "      <script>\n",
              "        const buttonEl =\n",
              "          document.querySelector('#df-78a3daad-e523-456e-b35e-ef5423fe9449 button.colab-df-convert');\n",
              "        buttonEl.style.display =\n",
              "          google.colab.kernel.accessAllowed ? 'block' : 'none';\n",
              "\n",
              "        async function convertToInteractive(key) {\n",
              "          const element = document.querySelector('#df-78a3daad-e523-456e-b35e-ef5423fe9449');\n",
              "          const dataTable =\n",
              "            await google.colab.kernel.invokeFunction('convertToInteractive',\n",
              "                                                     [key], {});\n",
              "          if (!dataTable) return;\n",
              "\n",
              "          const docLinkHtml = 'Like what you see? Visit the ' +\n",
              "            '<a target=\"_blank\" href=https://colab.research.google.com/notebooks/data_table.ipynb>data table notebook</a>'\n",
              "            + ' to learn more about interactive tables.';\n",
              "          element.innerHTML = '';\n",
              "          dataTable['output_type'] = 'display_data';\n",
              "          await google.colab.output.renderOutput(dataTable, element);\n",
              "          const docLink = document.createElement('div');\n",
              "          docLink.innerHTML = docLinkHtml;\n",
              "          element.appendChild(docLink);\n",
              "        }\n",
              "      </script>\n",
              "    </div>\n",
              "  </div>\n",
              "  "
            ]
          },
          "metadata": {},
          "execution_count": 13
        }
      ]
    },
    {
      "cell_type": "markdown",
      "source": [
        "### **Formating DateTime**"
      ],
      "metadata": {
        "id": "9vkjV7CKc4aT"
      }
    },
    {
      "cell_type": "code",
      "source": [
        "from datetime import datetime\n",
        "import calendar\n",
        "today=datetime.now()\n",
        "today.strftime('%Y-%m-%d')"
      ],
      "metadata": {
        "colab": {
          "base_uri": "https://localhost:8080/",
          "height": 36
        },
        "id": "kCTsAeemc3qC",
        "outputId": "2cf36816-1a9a-4f1a-c6f1-51199d30596e"
      },
      "execution_count": null,
      "outputs": [
        {
          "output_type": "execute_result",
          "data": {
            "text/plain": [
              "'2022-10-01'"
            ],
            "application/vnd.google.colaboratory.intrinsic+json": {
              "type": "string"
            }
          },
          "metadata": {},
          "execution_count": 14
        }
      ]
    },
    {
      "cell_type": "markdown",
      "source": [
        "**The format of recorded_date and published_date are in string format, we have to convert them into date format**"
      ],
      "metadata": {
        "id": "vikwuEW-eF_d"
      }
    },
    {
      "cell_type": "code",
      "source": [
        "# Recorded date formatting:\n",
        "raw_data['recorded_date']= pd.to_datetime(raw_data['recorded_date'])\n",
        "# Published date formatting:\n",
        "raw_data['published_date']= pd.to_datetime(raw_data['published_date'])"
      ],
      "metadata": {
        "id": "RobOTiWfdw7f"
      },
      "execution_count": null,
      "outputs": []
    },
    {
      "cell_type": "code",
      "source": [
        "raw_data[['recorded_date','published_date']].info()"
      ],
      "metadata": {
        "colab": {
          "base_uri": "https://localhost:8080/"
        },
        "id": "3hXaS87Me1LO",
        "outputId": "9c67c00a-cd4d-4ef5-c123-51b20145c9c9"
      },
      "execution_count": null,
      "outputs": [
        {
          "output_type": "stream",
          "name": "stdout",
          "text": [
            "<class 'pandas.core.frame.DataFrame'>\n",
            "RangeIndex: 4005 entries, 0 to 4004\n",
            "Data columns (total 2 columns):\n",
            " #   Column          Non-Null Count  Dtype         \n",
            "---  ------          --------------  -----         \n",
            " 0   recorded_date   4004 non-null   datetime64[ns]\n",
            " 1   published_date  4005 non-null   datetime64[ns]\n",
            "dtypes: datetime64[ns](2)\n",
            "memory usage: 62.7 KB\n"
          ]
        }
      ]
    },
    {
      "cell_type": "code",
      "source": [
        "# Number of days Ted talk has been published\n",
        "last_publishing_date= raw_data['published_date'].max()\n",
        "raw_data['time_passed_since_published']= last_publishing_date - pd.DatetimeIndex(raw_data['published_date'])"
      ],
      "metadata": {
        "id": "lm536zCfc3ns"
      },
      "execution_count": null,
      "outputs": []
    },
    {
      "cell_type": "code",
      "source": [
        "import datetime\n",
        "month_order = ['Jan', 'Feb', 'Mar', 'Apr', 'May', 'Jun', 'Jul', 'Aug', 'Sep', 'Oct', 'Nov', 'Dec']\n",
        "day_order   = ['Mon', 'Tue', 'Wed', 'Thu', 'Fri', 'Sat', 'Sun']\n",
        "raw_data['publish_month'] = pd.DatetimeIndex(raw_data['published_date']).month\n",
        "raw_data['publish_month'] = raw_data['publish_month'].apply(lambda x: calendar.month_abbr[x])\n",
        "raw_data['publish_year'] = pd.DatetimeIndex(raw_data['published_date']).year\n",
        "raw_data['publish_day'] = pd.DatetimeIndex(raw_data['published_date']).day\n",
        "raw_data['publish_week_day']= raw_data['published_date'].apply(lambda x: day_order[datetime.date(x.year, x.month, x.day).weekday()])"
      ],
      "metadata": {
        "id": "-7Ok9bBac3lD"
      },
      "execution_count": null,
      "outputs": []
    },
    {
      "cell_type": "markdown",
      "source": [
        "###**Creating variable for Daily Views(Target)**"
      ],
      "metadata": {
        "id": "NrmZg7AuskTD"
      }
    },
    {
      "cell_type": "code",
      "source": [
        "# Daily views/Talk:\n",
        "raw_data['daily_views'] = raw_data['views'] / ( raw_data['time_passed_since_published'].apply(lambda x : x.days) + 1 )"
      ],
      "metadata": {
        "id": "AZMKhghzc3fa"
      },
      "execution_count": null,
      "outputs": []
    },
    {
      "cell_type": "code",
      "source": [
        "raw_data[['publish_month','publish_year','publish_day','publish_week_day','daily_views']].head()"
      ],
      "metadata": {
        "id": "9St2iBIvc3i4",
        "colab": {
          "base_uri": "https://localhost:8080/",
          "height": 206
        },
        "outputId": "9667b60b-6fd2-4988-eed9-fda5431eb565"
      },
      "execution_count": null,
      "outputs": [
        {
          "output_type": "execute_result",
          "data": {
            "text/plain": [
              "  publish_month  publish_year  publish_day publish_week_day   daily_views\n",
              "0           Jun          2006           27              Tue    696.735614\n",
              "1           Jun          2006           27              Tue   2867.645837\n",
              "2           Jun          2006           27              Tue    379.836267\n",
              "3           Jun          2006           27              Tue    526.808187\n",
              "4           Jun          2006           27              Tue  12863.744117"
            ],
            "text/html": [
              "\n",
              "  <div id=\"df-a2e293e5-6ee7-486c-ba5a-4c979eff19fe\">\n",
              "    <div class=\"colab-df-container\">\n",
              "      <div>\n",
              "<style scoped>\n",
              "    .dataframe tbody tr th:only-of-type {\n",
              "        vertical-align: middle;\n",
              "    }\n",
              "\n",
              "    .dataframe tbody tr th {\n",
              "        vertical-align: top;\n",
              "    }\n",
              "\n",
              "    .dataframe thead th {\n",
              "        text-align: right;\n",
              "    }\n",
              "</style>\n",
              "<table border=\"1\" class=\"dataframe\">\n",
              "  <thead>\n",
              "    <tr style=\"text-align: right;\">\n",
              "      <th></th>\n",
              "      <th>publish_month</th>\n",
              "      <th>publish_year</th>\n",
              "      <th>publish_day</th>\n",
              "      <th>publish_week_day</th>\n",
              "      <th>daily_views</th>\n",
              "    </tr>\n",
              "  </thead>\n",
              "  <tbody>\n",
              "    <tr>\n",
              "      <th>0</th>\n",
              "      <td>Jun</td>\n",
              "      <td>2006</td>\n",
              "      <td>27</td>\n",
              "      <td>Tue</td>\n",
              "      <td>696.735614</td>\n",
              "    </tr>\n",
              "    <tr>\n",
              "      <th>1</th>\n",
              "      <td>Jun</td>\n",
              "      <td>2006</td>\n",
              "      <td>27</td>\n",
              "      <td>Tue</td>\n",
              "      <td>2867.645837</td>\n",
              "    </tr>\n",
              "    <tr>\n",
              "      <th>2</th>\n",
              "      <td>Jun</td>\n",
              "      <td>2006</td>\n",
              "      <td>27</td>\n",
              "      <td>Tue</td>\n",
              "      <td>379.836267</td>\n",
              "    </tr>\n",
              "    <tr>\n",
              "      <th>3</th>\n",
              "      <td>Jun</td>\n",
              "      <td>2006</td>\n",
              "      <td>27</td>\n",
              "      <td>Tue</td>\n",
              "      <td>526.808187</td>\n",
              "    </tr>\n",
              "    <tr>\n",
              "      <th>4</th>\n",
              "      <td>Jun</td>\n",
              "      <td>2006</td>\n",
              "      <td>27</td>\n",
              "      <td>Tue</td>\n",
              "      <td>12863.744117</td>\n",
              "    </tr>\n",
              "  </tbody>\n",
              "</table>\n",
              "</div>\n",
              "      <button class=\"colab-df-convert\" onclick=\"convertToInteractive('df-a2e293e5-6ee7-486c-ba5a-4c979eff19fe')\"\n",
              "              title=\"Convert this dataframe to an interactive table.\"\n",
              "              style=\"display:none;\">\n",
              "        \n",
              "  <svg xmlns=\"http://www.w3.org/2000/svg\" height=\"24px\"viewBox=\"0 0 24 24\"\n",
              "       width=\"24px\">\n",
              "    <path d=\"M0 0h24v24H0V0z\" fill=\"none\"/>\n",
              "    <path d=\"M18.56 5.44l.94 2.06.94-2.06 2.06-.94-2.06-.94-.94-2.06-.94 2.06-2.06.94zm-11 1L8.5 8.5l.94-2.06 2.06-.94-2.06-.94L8.5 2.5l-.94 2.06-2.06.94zm10 10l.94 2.06.94-2.06 2.06-.94-2.06-.94-.94-2.06-.94 2.06-2.06.94z\"/><path d=\"M17.41 7.96l-1.37-1.37c-.4-.4-.92-.59-1.43-.59-.52 0-1.04.2-1.43.59L10.3 9.45l-7.72 7.72c-.78.78-.78 2.05 0 2.83L4 21.41c.39.39.9.59 1.41.59.51 0 1.02-.2 1.41-.59l7.78-7.78 2.81-2.81c.8-.78.8-2.07 0-2.86zM5.41 20L4 18.59l7.72-7.72 1.47 1.35L5.41 20z\"/>\n",
              "  </svg>\n",
              "      </button>\n",
              "      \n",
              "  <style>\n",
              "    .colab-df-container {\n",
              "      display:flex;\n",
              "      flex-wrap:wrap;\n",
              "      gap: 12px;\n",
              "    }\n",
              "\n",
              "    .colab-df-convert {\n",
              "      background-color: #E8F0FE;\n",
              "      border: none;\n",
              "      border-radius: 50%;\n",
              "      cursor: pointer;\n",
              "      display: none;\n",
              "      fill: #1967D2;\n",
              "      height: 32px;\n",
              "      padding: 0 0 0 0;\n",
              "      width: 32px;\n",
              "    }\n",
              "\n",
              "    .colab-df-convert:hover {\n",
              "      background-color: #E2EBFA;\n",
              "      box-shadow: 0px 1px 2px rgba(60, 64, 67, 0.3), 0px 1px 3px 1px rgba(60, 64, 67, 0.15);\n",
              "      fill: #174EA6;\n",
              "    }\n",
              "\n",
              "    [theme=dark] .colab-df-convert {\n",
              "      background-color: #3B4455;\n",
              "      fill: #D2E3FC;\n",
              "    }\n",
              "\n",
              "    [theme=dark] .colab-df-convert:hover {\n",
              "      background-color: #434B5C;\n",
              "      box-shadow: 0px 1px 3px 1px rgba(0, 0, 0, 0.15);\n",
              "      filter: drop-shadow(0px 1px 2px rgba(0, 0, 0, 0.3));\n",
              "      fill: #FFFFFF;\n",
              "    }\n",
              "  </style>\n",
              "\n",
              "      <script>\n",
              "        const buttonEl =\n",
              "          document.querySelector('#df-a2e293e5-6ee7-486c-ba5a-4c979eff19fe button.colab-df-convert');\n",
              "        buttonEl.style.display =\n",
              "          google.colab.kernel.accessAllowed ? 'block' : 'none';\n",
              "\n",
              "        async function convertToInteractive(key) {\n",
              "          const element = document.querySelector('#df-a2e293e5-6ee7-486c-ba5a-4c979eff19fe');\n",
              "          const dataTable =\n",
              "            await google.colab.kernel.invokeFunction('convertToInteractive',\n",
              "                                                     [key], {});\n",
              "          if (!dataTable) return;\n",
              "\n",
              "          const docLinkHtml = 'Like what you see? Visit the ' +\n",
              "            '<a target=\"_blank\" href=https://colab.research.google.com/notebooks/data_table.ipynb>data table notebook</a>'\n",
              "            + ' to learn more about interactive tables.';\n",
              "          element.innerHTML = '';\n",
              "          dataTable['output_type'] = 'display_data';\n",
              "          await google.colab.output.renderOutput(dataTable, element);\n",
              "          const docLink = document.createElement('div');\n",
              "          docLink.innerHTML = docLinkHtml;\n",
              "          element.appendChild(docLink);\n",
              "        }\n",
              "      </script>\n",
              "    </div>\n",
              "  </div>\n",
              "  "
            ]
          },
          "metadata": {},
          "execution_count": 20
        }
      ]
    },
    {
      "cell_type": "markdown",
      "source": [
        "### **Univariate analysis**"
      ],
      "metadata": {
        "id": "THrifH8KL5XC"
      }
    },
    {
      "cell_type": "markdown",
      "source": [
        "### **Continuous variables**"
      ],
      "metadata": {
        "id": "k82PLgmWCiey"
      }
    },
    {
      "cell_type": "code",
      "source": [
        "fig = plt.figure(figsize=(15,5))\n",
        "\n",
        "plt.subplot(1,3,1)\n",
        "plt.title(\"views\")\n",
        "sns.distplot(x= raw_data['views'])\n",
        "\n",
        "plt.subplot(1,3,2)\n",
        "plt.title(\"number of comments\")\n",
        "sns.distplot(x= raw_data['comments'])\n",
        "\n",
        "plt.subplot(1,3,3)\n",
        "plt.title(\"duration of talk\")\n",
        "sns.distplot(x= raw_data['duration'])\n",
        "\n",
        "plt.show()"
      ],
      "metadata": {
        "colab": {
          "base_uri": "https://localhost:8080/",
          "height": 351
        },
        "id": "r0H-tmHLBiVT",
        "outputId": "eb158e00-7660-4860-a307-b808c491359b"
      },
      "execution_count": null,
      "outputs": [
        {
          "output_type": "display_data",
          "data": {
            "text/plain": [
              "<Figure size 1080x360 with 3 Axes>"
            ],
            "image/png": "[encoded data removed]"
          },
          "metadata": {
            "needs_background": "light"
          }
        }
      ]
    },
    {
      "cell_type": "markdown",
      "source": [
        "##***Bivariate analysis with dependent variable***"
      ],
      "metadata": {
        "id": "YNPoIOy-1YGW"
      }
    },
    {
      "cell_type": "markdown",
      "source": [
        "### **speaker_1 vs daily_views**\n",
        "\n"
      ],
      "metadata": {
        "id": "XnIYol541tHz"
      }
    },
    {
      "cell_type": "code",
      "source": [
        "#top 25 speakers\n",
        "temp=raw_data.groupby(['speaker_1'],as_index=False)['daily_views'].sum().sort_values('daily_views',ascending=False)[:5]\n",
        "plt.figure(figsize=(8,6))\n",
        "ax=sns.barplot(x='speaker_1', y='daily_views',data=temp)\n",
        "plt.setp(ax.get_xticklabels(), rotation=50);\n",
        "plt.title('Top 5 speaker according to daily_views')\n",
        "ax.grid(False)"
      ],
      "metadata": {
        "colab": {
          "base_uri": "https://localhost:8080/",
          "height": 490
        },
        "id": "L9czE5sV1XwA",
        "outputId": "fc35785c-7e63-4b06-a6b9-55e87d8a19cc"
      },
      "execution_count": null,
      "outputs": [
        {
          "output_type": "display_data",
          "data": {
            "text/plain": [
              "<Figure size 576x432 with 1 Axes>"
            ],
            "image/png": "[encoded data removed]"
          },
          "metadata": {
            "needs_background": "light"
          }
        }
      ]
    },
    {
      "cell_type": "markdown",
      "source": [
        "### **Speaker Vs Number of talks delivered**"
      ],
      "metadata": {
        "id": "8e1MMSRKCy6K"
      }
    },
    {
      "cell_type": "code",
      "source": [
        "data_speaker_count=pd.DataFrame(raw_data['speaker_1'].value_counts()).reset_index().rename(columns=({'index':'Speaker','speaker_1':'Number of talks'}))"
      ],
      "metadata": {
        "id": "y72lvLVWNtH-"
      },
      "execution_count": null,
      "outputs": []
    },
    {
      "cell_type": "code",
      "source": [
        "most_talks = data_speaker_count.nlargest(5, 'Number of talks')\n",
        "plt.figure(figsize=(10,6))\n",
        "sns.barplot(x = 'Speaker', y = 'Number of talks', data = most_talks)\n",
        "plt.show()"
      ],
      "metadata": {
        "colab": {
          "base_uri": "https://localhost:8080/",
          "height": 394
        },
        "id": "Jvukw-DA5Sin",
        "outputId": "3747bb93-884a-47bb-92a0-1be526156f56"
      },
      "execution_count": null,
      "outputs": [
        {
          "output_type": "display_data",
          "data": {
            "text/plain": [
              "<Figure size 720x432 with 1 Axes>"
            ],
            "image/png": "[encoded data removed]"
          },
          "metadata": {
            "needs_background": "light"
          }
        }
      ]
    },
    {
      "cell_type": "markdown",
      "source": [
        "### **speaker vs duration**"
      ],
      "metadata": {
        "id": "UfVHlt1_C8qb"
      }
    },
    {
      "cell_type": "code",
      "source": [
        "temp=raw_data.groupby(['speaker_1'],as_index=False)['duration'].sum().sort_values('duration',ascending=False)[:25]\n",
        "temp=raw_data.groupby(['speaker_1'],as_index=False).agg({'duration':'sum','talk_id':'count'}).sort_values('duration',ascending=False).reset_index()[:8]\n",
        "temp['talk_id']=temp['duration']/temp['talk_id']\n",
        "plt.figure(figsize=(15,6))\n",
        "ax=sns.barplot(x='speaker_1',y='duration',data=temp)\n",
        "labels=ax.get_xticklabels()\n",
        "plt.setp(labels, rotation=70);"
      ],
      "metadata": {
        "colab": {
          "base_uri": "https://localhost:8080/",
          "height": 480
        },
        "id": "rxTnc01uC8bL",
        "outputId": "339f71db-1714-47b4-8380-c03c380e545d"
      },
      "execution_count": null,
      "outputs": [
        {
          "output_type": "display_data",
          "data": {
            "text/plain": [
              "<Figure size 1080x432 with 1 Axes>"
            ],
            "image/png": "[encoded data removed]"
          },
          "metadata": {
            "needs_background": "light"
          }
        }
      ]
    },
    {
      "cell_type": "markdown",
      "source": [
        "### **Speaker vs comments**"
      ],
      "metadata": {
        "id": "REELj4PxJhfN"
      }
    },
    {
      "cell_type": "code",
      "source": [
        "temp=raw_data.groupby(['speaker_1'],as_index=False)['comments'].sum().sort_values('comments',ascending=False)[:5]\n",
        "plt.figure(figsize=(10,6))\n",
        "ax=sns.barplot(x='speaker_1',y='comments',data=temp);\n",
        "plt.setp(ax.get_xticklabels(), rotation=70);\n",
        "plt.title('Most popular speaker according to views',fontsize=20)\n",
        "plt.show()"
      ],
      "metadata": {
        "colab": {
          "base_uri": "https://localhost:8080/",
          "height": 495
        },
        "id": "6GGX7LK3DMhz",
        "outputId": "c70986eb-677a-49d3-b7e0-a900f134ee05"
      },
      "execution_count": null,
      "outputs": [
        {
          "output_type": "display_data",
          "data": {
            "text/plain": [
              "<Figure size 720x432 with 1 Axes>"
            ],
            "image/png": "[encoded data removed]"
          },
          "metadata": {
            "needs_background": "light"
          }
        }
      ]
    },
    {
      "cell_type": "markdown",
      "source": [
        "### **Speaker vs Average Views**"
      ],
      "metadata": {
        "id": "snA1M4WLKVjF"
      }
    },
    {
      "cell_type": "code",
      "source": [
        "# Speaker most popular video\n",
        "temp=raw_data[['speaker_1','views']].sort_values('views',ascending=False)[:5]\n",
        "plt.figure(figsize=(8,6))\n",
        "ax=sns.barplot(x='speaker_1',y='views',data=temp)\n",
        "plt.setp(ax.get_xticklabels(), rotation=60);\n",
        "plt.title('Speaker_1 with most popular video')\n",
        "plt.ylabel('Avg views in ten millions')\n",
        "ax.grid(False)"
      ],
      "metadata": {
        "colab": {
          "base_uri": "https://localhost:8080/",
          "height": 485
        },
        "id": "tw5mdL57C8J1",
        "outputId": "0bc9ac6a-8904-4093-88a3-37e3fb8d58d9"
      },
      "execution_count": null,
      "outputs": [
        {
          "output_type": "display_data",
          "data": {
            "text/plain": [
              "<Figure size 576x432 with 1 Axes>"
            ],
            "image/png": "[encoded data removed]"
          },
          "metadata": {
            "needs_background": "light"
          }
        }
      ]
    },
    {
      "cell_type": "markdown",
      "source": [
        "## **Target Encoding**\n",
        "\n",
        "### ***Target encoding is the process of replacing a catgorical variable values with the mean of the target (dependent variable) variable***"
      ],
      "metadata": {
        "id": "jBDTA9mnTpoa"
      }
    },
    {
      "cell_type": "markdown",
      "source": [
        "### **Applying Target encoding on speaker_1**"
      ],
      "metadata": {
        "id": "RKXRss8EYr6i"
      }
    },
    {
      "cell_type": "code",
      "source": [
        "speaker=raw_data.groupby('speaker_1').agg({'daily_views' : 'mean'}).sort_values(['daily_views'],ascending=False)\n",
        "speaker=speaker.to_dict()\n",
        "speaker=speaker.values()\n",
        "speaker=  list(speaker)[0]\n",
        "raw_data['speaker_1_avg_views']=raw_data['speaker_1'].map(speaker)"
      ],
      "metadata": {
        "id": "idXromrXC8GD"
      },
      "execution_count": null,
      "outputs": []
    },
    {
      "cell_type": "code",
      "source": [
        "plt.figure(figsize=(10,5))\n",
        "sns.distplot(raw_data['speaker_1_avg_views'])\n",
        "plt.show()"
      ],
      "metadata": {
        "colab": {
          "base_uri": "https://localhost:8080/",
          "height": 339
        },
        "id": "ZVroPxQ6ZOi-",
        "outputId": "85e3cbee-2b61-49e9-bc19-9a69f596698d"
      },
      "execution_count": null,
      "outputs": [
        {
          "output_type": "display_data",
          "data": {
            "text/plain": [
              "<Figure size 720x360 with 1 Axes>"
            ],
            "image/png": "[encoded data removed]"
          },
          "metadata": {
            "needs_background": "light"
          }
        }
      ]
    },
    {
      "cell_type": "markdown",
      "source": [
        "### **Event**\n",
        "\n",
        "### Event is also a catagorical variable, therefore we also apply target encoding on it. "
      ],
      "metadata": {
        "id": "Y_pBmv0xalnt"
      }
    },
    {
      "cell_type": "code",
      "source": [
        "event=raw_data.groupby('event').agg({'daily_views' : 'mean'}).sort_values(['daily_views'],ascending=False)\n",
        "event=event.to_dict()\n",
        "event=event.values()\n",
        "event=  list(event)[0]\n",
        "raw_data['event_wise_avg_views']=raw_data['event'].map(event)"
      ],
      "metadata": {
        "id": "kmyn_PBhZOgT"
      },
      "execution_count": null,
      "outputs": []
    },
    {
      "cell_type": "code",
      "source": [
        "plt.figure(figsize=(10,5))\n",
        "sns.distplot(raw_data['event_wise_avg_views'])\n",
        "plt.show()"
      ],
      "metadata": {
        "colab": {
          "base_uri": "https://localhost:8080/",
          "height": 339
        },
        "id": "ya7702qbZOc3",
        "outputId": "50104a85-5122-41cd-a5ea-6c12edd06103"
      },
      "execution_count": null,
      "outputs": [
        {
          "output_type": "display_data",
          "data": {
            "text/plain": [
              "<Figure size 720x360 with 1 Axes>"
            ],
            "image/png": "[encoded data removed]"
          },
          "metadata": {
            "needs_background": "light"
          }
        }
      ]
    },
    {
      "cell_type": "markdown",
      "source": [
        "### **Top 10 Ted Talk events**"
      ],
      "metadata": {
        "id": "qyjvUHVfbwZB"
      }
    },
    {
      "cell_type": "code",
      "source": [
        "temp=raw_data.groupby(['event','publish_year'],as_index=False).agg({'daily_views':'sum','talk_id':'count'}).sort_values('daily_views',ascending=False).reset_index()[:8]\n",
        "temp['talk_id']=temp['daily_views']/temp['talk_id']\n",
        "plt.figure(figsize=(10,6))\n",
        "ax=sns.barplot(x='event',y='daily_views',data=temp)\n",
        "labels=ax.get_xticklabels()\n",
        "plt.title('Top TED Events by daily_views')\n",
        "plt.ylabel('daily_views in million')\n",
        "plt.setp(labels, rotation=50);"
      ],
      "metadata": {
        "colab": {
          "base_uri": "https://localhost:8080/",
          "height": 500
        },
        "id": "SzBQoYVfbwHw",
        "outputId": "8cbd865a-b56b-4dab-90ed-1bef3ffd259c"
      },
      "execution_count": null,
      "outputs": [
        {
          "output_type": "display_data",
          "data": {
            "text/plain": [
              "<Figure size 720x432 with 1 Axes>"
            ],
            "image/png": "[encoded data removed]"
          },
          "metadata": {
            "needs_background": "light"
          }
        }
      ]
    },
    {
      "cell_type": "code",
      "source": [
        "plt.figure(figsize=(10,6))\n",
        "ax=sns.barplot(x='event',y='talk_id',data=temp)\n",
        "labels=ax.get_xticklabels()\n",
        "plt.title('Top TED Events by Average daily_views')\n",
        "plt.xlabel('Events')\n",
        "plt.ylabel('Avg daily_views in millions')\n",
        "plt.show()"
      ],
      "metadata": {
        "colab": {
          "base_uri": "https://localhost:8080/",
          "height": 410
        },
        "id": "mKFWYWcYbv3m",
        "outputId": "70abf2f7-b6a9-430c-d371-c5b82c29fba4"
      },
      "execution_count": null,
      "outputs": [
        {
          "output_type": "display_data",
          "data": {
            "text/plain": [
              "<Figure size 720x432 with 1 Axes>"
            ],
            "image/png": "[encoded data removed]"
          },
          "metadata": {
            "needs_background": "light"
          }
        }
      ]
    },
    {
      "cell_type": "markdown",
      "source": [
        "###**available_language variable** \n",
        "\n"
      ],
      "metadata": {
        "id": "z_wpOYaye0eD"
      }
    },
    {
      "cell_type": "code",
      "source": [
        "raw_data['number_of_lang'] = raw_data['available_lang'].apply(lambda x: len(x))\n",
        "sns.distplot(raw_data['number_of_lang'])\n",
        "plt.show()"
      ],
      "metadata": {
        "colab": {
          "base_uri": "https://localhost:8080/",
          "height": 285
        },
        "id": "vSdjTOgFe0FC",
        "outputId": "96be3d00-ea9c-4925-c374-a7ce074c5f71"
      },
      "execution_count": null,
      "outputs": [
        {
          "output_type": "display_data",
          "data": {
            "text/plain": [
              "<Figure size 504x288 with 1 Axes>"
            ],
            "image/png": "[encoded data removed]"
          },
          "metadata": {
            "needs_background": "light"
          }
        }
      ]
    },
    {
      "cell_type": "markdown",
      "source": [
        "###**num_of_topic variable from topic variable**"
      ],
      "metadata": {
        "id": "gH4IZqZrfuzI"
      }
    },
    {
      "cell_type": "code",
      "source": [
        "raw_data['topics'] = raw_data.apply(lambda x: eval(x['topics']), axis=1)\n",
        "raw_data['num_of_topics'] = raw_data.apply(lambda x: len(x['topics']), axis=1)\n",
        "# graph:\n",
        "plt.figure(figsize=(10,5))\n",
        "sns.distplot(raw_data['num_of_topics'])"
      ],
      "metadata": {
        "colab": {
          "base_uri": "https://localhost:8080/",
          "height": 357
        },
        "id": "7YIFctvre0CA",
        "outputId": "bbae23a0-40fe-43d8-a141-74a8bd590d3a"
      },
      "execution_count": null,
      "outputs": [
        {
          "output_type": "execute_result",
          "data": {
            "text/plain": [
              "<matplotlib.axes._subplots.AxesSubplot at 0x7f6ff8aa8090>"
            ]
          },
          "metadata": {},
          "execution_count": 35
        },
        {
          "output_type": "display_data",
          "data": {
            "text/plain": [
              "<Figure size 720x360 with 1 Axes>"
            ],
            "image/png": "[encoded data removed]"
          },
          "metadata": {
            "needs_background": "light"
          }
        }
      ]
    },
    {
      "cell_type": "markdown",
      "source": [
        "### **Number of Unique Topics**"
      ],
      "metadata": {
        "id": "2b9cipa1iKcU"
      }
    },
    {
      "cell_type": "code",
      "source": [
        "#Checking for unique topic\n",
        "unique_topics=[]\n",
        "for i in range(0,len(raw_data)):\n",
        "  temp=raw_data['topics'][i]\n",
        "  for i in temp:\n",
        "    if(i not in unique_topics):\n",
        "      unique_topics.append(i)\n",
        "      \n",
        "len(unique_topics)"
      ],
      "metadata": {
        "colab": {
          "base_uri": "https://localhost:8080/"
        },
        "id": "D5YWQ5a7ez_J",
        "outputId": "5c418287-b849-4fbd-bd0f-8f2ab9e042a5"
      },
      "execution_count": null,
      "outputs": [
        {
          "output_type": "execute_result",
          "data": {
            "text/plain": [
              "457"
            ]
          },
          "metadata": {},
          "execution_count": 36
        }
      ]
    },
    {
      "cell_type": "markdown",
      "source": [
        "### **Target encoding on unique_topics**"
      ],
      "metadata": {
        "id": "mIC_wwCRarrF"
      }
    },
    {
      "cell_type": "code",
      "source": [
        "#fetching the avg views w.r.t each topic in another dict unique_topics_avg_view_dict\n",
        "unique_topics_avg_view_dict={}\n",
        "for topic in unique_topics:\n",
        "  temp=0\n",
        "  count=0\n",
        "  for i in range(0,len(raw_data)):\n",
        "    temp2=raw_data['topics'][i]\n",
        "    if(topic in temp2):\n",
        "      temp+=raw_data['daily_views'][i]\n",
        "      count+=1\n",
        "  unique_topics_avg_view_dict[topic]=temp//count"
      ],
      "metadata": {
        "id": "dw90WCMSbvzA"
      },
      "execution_count": null,
      "outputs": []
    },
    {
      "cell_type": "code",
      "source": [
        "#storing the avg views w.r.t topic for each talk\n",
        "topics_wise_avg_views=[]\n",
        "for i in range(0,len(raw_data)):\n",
        "  temp=0\n",
        "  temp_topic=raw_data['topics'][i]\n",
        "  for ele in temp_topic:\n",
        "    temp+=unique_topics_avg_view_dict[ele]\n",
        "  \n",
        "  topics_wise_avg_views.append(temp//len(temp_topic))\n",
        "\n",
        "se = pd.Series(topics_wise_avg_views)\n",
        "raw_data['topics_wise_avg_views'] = se.values"
      ],
      "metadata": {
        "id": "6EaG6tKfisUN"
      },
      "execution_count": null,
      "outputs": []
    },
    {
      "cell_type": "code",
      "source": [
        "# Graph:\n",
        "plt.figure(figsize=(10,4))\n",
        "sns.distplot(raw_data['topics_wise_avg_views'])"
      ],
      "metadata": {
        "id": "3yDQrMYUisFj"
      },
      "execution_count": null,
      "outputs": []
    },
    {
      "cell_type": "markdown",
      "source": [
        "## ***related_talks variable***"
      ],
      "metadata": {
        "id": "eU7XLVuwkcs8"
      }
    },
    {
      "cell_type": "code",
      "source": [
        "raw_data['related_talks'] = raw_data['related_talks'].apply(lambda x: ast.literal_eval(x))"
      ],
      "metadata": {
        "id": "4Kr1HTq_kzRW"
      },
      "execution_count": null,
      "outputs": []
    },
    {
      "cell_type": "markdown",
      "source": [
        "####**Related talk column contains a dictionary containing information about related videos with talk_id as key and video name as it's value. taking mean of all realated talk videos views**"
      ],
      "metadata": {
        "id": "HdoVWwOpsL1r"
      }
    },
    {
      "cell_type": "code",
      "source": [
        "#defining a new feature called related_views\n",
        "raw_data['related_views'] = 0\n",
        "#iterating through the each row and extracting the value of related_talks\n",
        "for index, row in raw_data.iterrows():\n",
        "    id_list=list(row['related_talks'].keys())\n",
        "    temp=0\n",
        "    for i in range(len(raw_data)):\n",
        "      if (raw_data.loc[i,'talk_id']) in id_list:\n",
        "        temp+=raw_data.loc[i,'daily_views']\n",
        "\n",
        "    raw_data.loc[index,'related_views']=temp//6"
      ],
      "metadata": {
        "id": "lEuw434LkzOC"
      },
      "execution_count": null,
      "outputs": []
    },
    {
      "cell_type": "code",
      "source": [
        "#Graph of related_views column\n",
        "plt.figure(figsize=(10,5))\n",
        "sns.distplot(raw_data['related_views'])\n",
        "plt.show()"
      ],
      "metadata": {
        "id": "i6j8uf7FnOxP"
      },
      "execution_count": null,
      "outputs": []
    },
    {
      "cell_type": "markdown",
      "source": [
        "####**Converting time_passed_since_published into integer**"
      ],
      "metadata": {
        "id": "OkOCSZf4qiz_"
      }
    },
    {
      "cell_type": "code",
      "source": [
        "raw_data['time_passed_since_published'] = raw_data['time_passed_since_published'].dt.days.astype('int16')"
      ],
      "metadata": {
        "id": "ey2vKoa_qU08"
      },
      "execution_count": null,
      "outputs": []
    },
    {
      "cell_type": "markdown",
      "source": [
        "#**Feature Engineering and Data Preprocessing**"
      ],
      "metadata": {
        "id": "WkYF-L5fcldw"
      }
    },
    {
      "cell_type": "markdown",
      "source": [
        "## **Verifying OLS assumptions**"
      ],
      "metadata": {
        "id": "2TYM_lFRqm3p"
      }
    },
    {
      "cell_type": "markdown",
      "source": [
        "### **Linearity**\n",
        "Target and Predictors must have a linear relationships"
      ],
      "metadata": {
        "id": "k5rvGhnwvYgd"
      }
    },
    {
      "cell_type": "code",
      "source": [
        "# checking for Linearity\n",
        "      \n",
        "fig = plt.figure(figsize=(15,10))\n",
        "\n",
        "plt.subplot(3,4,1)\n",
        "plt.title(\"comments\")\n",
        "sns.scatterplot(raw_data['comments'],raw_data['daily_views'])\n",
        "\n",
        "plt.subplot(3,4,2)                   \n",
        "plt.title(\"duration\")\n",
        "sns.scatterplot(raw_data['duration'],raw_data['daily_views'])\n",
        "\n",
        "plt.subplot(3,4,3)\n",
        "plt.title(\"time_passed_since_published\")\n",
        "sns.scatterplot(raw_data['time_passed_since_published'],raw_data['daily_views'])\n",
        "\n",
        "plt.subplot(3,4,4)\n",
        "plt.title(\"publish_year\")\n",
        "sns.scatterplot(raw_data['publish_year'],raw_data['daily_views'])\n",
        "\n",
        "plt.subplot(3,4,5)\n",
        "plt.title(\"publish_day\")\n",
        "sns.scatterplot(raw_data['publish_day'],raw_data['daily_views'])\n",
        "\n",
        "plt.subplot(3,4,6)\n",
        "plt.title(\"speaker_1_avg_views\")\n",
        "sns.scatterplot(raw_data['speaker_1_avg_views'],raw_data['daily_views'])\n",
        "\n",
        "plt.subplot(3,4,7)\n",
        "plt.title(\"event_wise_avg_views\")\n",
        "sns.scatterplot(raw_data['event_wise_avg_views'],raw_data['daily_views'])\n",
        "\n",
        "plt.subplot(3,4,8)\n",
        "plt.title(\"number_of_lang\")\n",
        "sns.scatterplot(raw_data['number_of_lang'],raw_data['daily_views'])\n",
        "\n",
        "plt.subplot(3,4,9)\n",
        "plt.title(\"num_of_topics\")\n",
        "sns.scatterplot(raw_data['num_of_topics'],raw_data['daily_views'])\n",
        "\n",
        "plt.subplot(3,4,10)\n",
        "plt.title(\"topics_wise_avg_views\")\n",
        "sns.scatterplot(raw_data['topics_wise_avg_views'],raw_data['daily_views'])\n",
        "\n",
        "plt.subplot(3,4,11)\n",
        "plt.title(\"related_views\")\n",
        "sns.scatterplot(raw_data['related_views'],raw_data['daily_views'])\n",
        "\n",
        "plt.tight_layout()\n",
        "plt.show()\n"
      ],
      "metadata": {
        "id": "6FNMkKU6voRt"
      },
      "execution_count": null,
      "outputs": []
    },
    {
      "cell_type": "markdown",
      "source": [
        "### **Transformation for Linearity**\n"
      ],
      "metadata": {
        "id": "_Q1i1gwu06gi"
      }
    },
    {
      "cell_type": "code",
      "source": [
        "# Transformation\n",
        "raw_data['log_daily_views']=np.log(raw_data['daily_views'])\n",
        "raw_data['log_comments']=np.log(raw_data['comments'])\n",
        "raw_data['log_speaker_1_avg_views']=np.log(raw_data['speaker_1_avg_views'])\n",
        "raw_data['log_event_wise_avg_views']=np.log(raw_data['event_wise_avg_views'])"
      ],
      "metadata": {
        "id": "EM5HFfmQvoO4"
      },
      "execution_count": null,
      "outputs": []
    },
    {
      "cell_type": "code",
      "source": [
        "raw_data['log_duration']=np.log(raw_data['duration'])\n",
        "raw_data['log_topics_wise_avg_views']=np.log(raw_data['topics_wise_avg_views'])\n",
        "raw_data['log_related_views']=np.log(raw_data['related_views'])"
      ],
      "metadata": {
        "id": "RUA1IeQt788E"
      },
      "execution_count": null,
      "outputs": []
    },
    {
      "cell_type": "code",
      "source": [
        "#  Linearity\n",
        "\n",
        "fig = plt.figure(figsize=(15,10))\n",
        "\n",
        "plt.subplot(3,4,1)\n",
        "plt.title(\"log_comments\")\n",
        "sns.scatterplot(raw_data['log_comments'],raw_data['log_daily_views'])\n",
        "\n",
        "plt.subplot(3,4,2)\n",
        "plt.title(\"log_duration\")\n",
        "sns.scatterplot(raw_data['log_duration'],raw_data['log_daily_views'])\n",
        "\n",
        "plt.subplot(3,4,3)\n",
        "plt.title(\"time_passed_since_published\")\n",
        "sns.scatterplot(raw_data['time_passed_since_published'],raw_data['log_daily_views'])\n",
        "\n",
        "plt.subplot(3,4,4)\n",
        "plt.title(\"publish_year\")\n",
        "sns.scatterplot(raw_data['publish_year'],raw_data['log_daily_views'])\n",
        "\n",
        "plt.subplot(3,4,5)\n",
        "plt.title(\"publish_day\")\n",
        "sns.scatterplot(raw_data['publish_day'],raw_data['log_daily_views'])\n",
        "\n",
        "plt.subplot(3,4,6)\n",
        "plt.title(\"log_speaker_1_avg_views\")\n",
        "sns.scatterplot(raw_data['log_speaker_1_avg_views'],raw_data['log_daily_views'])\n",
        "\n",
        "plt.subplot(3,4,7)\n",
        "plt.title(\"log_event_wise_avg_views\")\n",
        "sns.scatterplot(raw_data['log_event_wise_avg_views'],raw_data['log_daily_views'])\n",
        "\n",
        "\n",
        "plt.subplot(3,4,8)\n",
        "plt.title(\"number_of_lang\")\n",
        "sns.scatterplot(raw_data['number_of_lang'],raw_data['log_daily_views'])\n",
        "\n",
        "plt.subplot(3,4,9)\n",
        "plt.title(\"num_of_topics\")\n",
        "sns.scatterplot(raw_data['num_of_topics'],raw_data['log_daily_views'])\n",
        "\n",
        "plt.subplot(3,4,10)\n",
        "plt.title(\"log_topics_wise_avg_views\")\n",
        "sns.scatterplot(raw_data['log_topics_wise_avg_views'],raw_data['log_daily_views'])\n",
        "\n",
        "plt.subplot(3,4,11)\n",
        "plt.title(\"log_related_views\")\n",
        "sns.scatterplot(raw_data['log_related_views'],raw_data['log_daily_views'])\n",
        "\n",
        "\n",
        "plt.tight_layout()\n",
        "plt.show()\n"
      ],
      "metadata": {
        "id": "D8fZUuZlvoLr"
      },
      "execution_count": null,
      "outputs": []
    },
    {
      "cell_type": "markdown",
      "source": [
        "**Not all features show linearity with the target and also many feature are showing hetroscedasticity**"
      ],
      "metadata": {
        "id": "tFKQqipge9mh"
      }
    },
    {
      "cell_type": "markdown",
      "source": [
        "###**Outliers Detection**"
      ],
      "metadata": {
        "id": "6sHGY86M5jO1"
      }
    },
    {
      "cell_type": "code",
      "source": [
        "# Boxplots\n",
        "fig = plt.figure(figsize=(10,8))\n",
        "\n",
        "plt.subplot(3,4,1)\n",
        "#plt.title(\"log_comments\")\n",
        "sns.boxplot(x= raw_data['log_comments'])\n",
        "\n",
        "plt.subplot(3,4,2)\n",
        "#plt.title(\"duration\")\n",
        "sns.boxplot(x= raw_data['log_duration'])\n",
        "\n",
        "plt.subplot(3,4,3)\n",
        "#plt.title(\"time_passed_since_published\")\n",
        "sns.boxplot(x= raw_data['time_passed_since_published'])\n",
        "\n",
        "plt.subplot(3,4,4)\n",
        "#plt.title(\"publish_year\")\n",
        "sns.boxplot(x= raw_data['publish_year'])\n",
        "\n",
        "plt.subplot(3,4,5)\n",
        "#plt.title(\"publish_day\")\n",
        "sns.boxplot(x= raw_data['publish_day'])\n",
        "\n",
        "plt.subplot(3,4,6)\n",
        "#plt.title(\"log_speaker_1_avg_views\")\n",
        "sns.boxplot(x= raw_data['log_speaker_1_avg_views'])\n",
        "\n",
        "plt.subplot(3,4,7)\n",
        "#plt.title(\"log_event_wise_avg_views\")\n",
        "sns.boxplot(x= raw_data['log_event_wise_avg_views'])\n",
        "\n",
        "\n",
        "plt.subplot(3,4,8)\n",
        "#plt.title(\"number_of_lang\")\n",
        "sns.boxplot(x= raw_data['number_of_lang'])\n",
        "\n",
        "plt.subplot(3,4,9)\n",
        "#plt.title(\"num_of_topics\")\n",
        "sns.boxplot(x= raw_data['num_of_topics'])\n",
        "\n",
        "plt.subplot(3,4,10)\n",
        "#plt.title(\"log_daily_views\")\n",
        "sns.boxplot(x= raw_data['log_daily_views'])\n",
        "\n",
        "plt.subplot(3,4,11)\n",
        "#plt.title(\"log_topics_wise_avg_views\")\n",
        "sns.boxplot(x= raw_data['log_topics_wise_avg_views'])\n",
        "\n",
        "plt.subplot(3,4,12)\n",
        "#plt.title(\"log_related_views\")\n",
        "sns.boxplot(x= raw_data['log_related_views'])\n",
        "\n",
        "plt.tight_layout()\n",
        "plt.show()"
      ],
      "metadata": {
        "id": "9Xni3Rmw5jO2"
      },
      "execution_count": null,
      "outputs": []
    },
    {
      "cell_type": "code",
      "source": [
        "# removing outliers from log_comments\n",
        "q_low = raw_data['log_comments'].quantile(0.01)\n",
        "q_hi  = raw_data['log_comments'].quantile(0.99)\n",
        "\n",
        "df_1 = raw_data[(raw_data['log_comments'] < q_hi) & (raw_data['log_comments'] > q_low)]"
      ],
      "metadata": {
        "id": "lHezrD90voED"
      },
      "execution_count": null,
      "outputs": []
    },
    {
      "cell_type": "code",
      "source": [
        "# removing outliers from log_duration\n",
        "q_low = df_1[\"log_duration\"].quantile(0.01)\n",
        "q_hi  = df_1[\"log_duration\"].quantile(0.99)\n",
        "\n",
        "df_2 = df_1[(df_1[\"log_duration\"] < q_hi) & (df_1[\"log_duration\"] > q_low)]"
      ],
      "metadata": {
        "id": "FnGJf2ff_FD5"
      },
      "execution_count": null,
      "outputs": []
    },
    {
      "cell_type": "code",
      "source": [
        "# removing outliers from log_speaker_1_avg_views\n",
        "q_low = df_2[\"log_speaker_1_avg_views\"].quantile(0.01)\n",
        "q_hi  = df_2[\"log_speaker_1_avg_views\"].quantile(0.99)\n",
        "\n",
        "df_3 = df_2[(df_2[\"log_speaker_1_avg_views\"] < q_hi) & (df_2[\"log_speaker_1_avg_views\"] > q_low)]"
      ],
      "metadata": {
        "id": "5F8jyn70_EwL"
      },
      "execution_count": null,
      "outputs": []
    },
    {
      "cell_type": "code",
      "source": [
        "# removing outliers from log_event_wise_avg_views\n",
        "q_low = df_3[\"log_event_wise_avg_views\"].quantile(0.01)\n",
        "q_hi  = df_3[\"log_event_wise_avg_views\"].quantile(0.99)\n",
        "\n",
        "df_4 = df_3[(df_3[\"log_event_wise_avg_views\"] < q_hi) & (df_3[\"log_event_wise_avg_views\"] > q_low)]"
      ],
      "metadata": {
        "id": "NGEbMnDv_Ee9"
      },
      "execution_count": null,
      "outputs": []
    },
    {
      "cell_type": "code",
      "source": [
        "# removing outliers from number_of_lang\n",
        "q_low = df_4[\"number_of_lang\"].quantile(0.01)\n",
        "q_hi  = df_4[\"number_of_lang\"].quantile(0.99)\n",
        "\n",
        "df_5 = df_4[(df_4[\"number_of_lang\"] < q_hi) & (df_4[\"number_of_lang\"] > q_low)]"
      ],
      "metadata": {
        "id": "M9jPytbY_EO6"
      },
      "execution_count": null,
      "outputs": []
    },
    {
      "cell_type": "code",
      "source": [
        "# removing outliers from num_of_topics\n",
        "q_hi  = df_5[\"num_of_topics\"].quantile(0.99)\n",
        "\n",
        "df_6 = df_5[df_5[\"num_of_topics\"] < q_hi]"
      ],
      "metadata": {
        "id": "JcC10toT_EA2"
      },
      "execution_count": null,
      "outputs": []
    },
    {
      "cell_type": "code",
      "source": [
        "# removing outliers from log_daily_views\n",
        "q_low = df_6[\"log_daily_views\"].quantile(0.01)\n",
        "q_hi  = df_6[\"log_daily_views\"].quantile(0.99)\n",
        "\n",
        "df_7 = df_6[(df_6[\"log_daily_views\"] < q_hi) & (df_6[\"log_daily_views\"] > q_low)]"
      ],
      "metadata": {
        "id": "5cnblcA_AeYE"
      },
      "execution_count": null,
      "outputs": []
    },
    {
      "cell_type": "code",
      "source": [
        "# removing outliers from log_topics_wise_avg_views\n",
        "q_low = df_7[\"log_topics_wise_avg_views\"].quantile(0.01)\n",
        "q_hi  = df_7[\"log_topics_wise_avg_views\"].quantile(0.99)\n",
        "\n",
        "df_8 = df_7[(df_7[\"log_topics_wise_avg_views\"] < q_hi) & (df_7[\"log_topics_wise_avg_views\"] > q_low)]"
      ],
      "metadata": {
        "id": "wS3W_NVrnD4h"
      },
      "execution_count": null,
      "outputs": []
    },
    {
      "cell_type": "code",
      "source": [
        "# removing outliers from log_related_views\n",
        "q_low = df_8[\"log_related_views\"].quantile(0.01)\n",
        "q_hi  = df_8[\"log_related_views\"].quantile(0.99)\n",
        "\n",
        "df_filtered = df_8[(df_8[\"log_related_views\"] < q_hi) & (df_8[\"log_related_views\"] > q_low)]"
      ],
      "metadata": {
        "id": "CyE-HDT9nDpf"
      },
      "execution_count": null,
      "outputs": []
    },
    {
      "cell_type": "code",
      "source": [
        "# New Boxplots\n",
        "fig = plt.figure(figsize=(10,8))\n",
        "\n",
        "plt.subplot(3,4,1)\n",
        "#plt.title(\"log_comments\")\n",
        "sns.boxplot(x= df_filtered['log_comments'])\n",
        "\n",
        "plt.subplot(3,4,2)\n",
        "#plt.title(\"duration\")\n",
        "sns.boxplot(x= df_filtered['log_duration'])\n",
        "\n",
        "plt.subplot(3,4,3)\n",
        "#plt.title(\"time_passed_since_published\")\n",
        "sns.boxplot(x= df_filtered['time_passed_since_published'])\n",
        "\n",
        "plt.subplot(3,4,4)\n",
        "#plt.title(\"publish_year\")\n",
        "sns.boxplot(x= df_filtered['publish_year'])\n",
        "\n",
        "plt.subplot(3,4,5)\n",
        "#plt.title(\"publish_day\")\n",
        "sns.boxplot(x= df_filtered['publish_day'])\n",
        "\n",
        "plt.subplot(3,4,6)\n",
        "#plt.title(\"log_speaker_1_avg_views\")\n",
        "sns.boxplot(x= df_filtered['log_speaker_1_avg_views'])\n",
        "\n",
        "plt.subplot(3,4,7)\n",
        "#plt.title(\"log_event_wise_avg_views\")\n",
        "sns.boxplot(x= df_filtered['log_event_wise_avg_views'])\n",
        "\n",
        "\n",
        "plt.subplot(3,4,8)\n",
        "#plt.title(\"number_of_lang\")\n",
        "sns.boxplot(x= df_filtered['number_of_lang'])\n",
        "\n",
        "plt.subplot(3,4,9)\n",
        "#plt.title(\"num_of_topics\")\n",
        "sns.boxplot(x= df_filtered['num_of_topics'])\n",
        "\n",
        "plt.subplot(3,4,10)\n",
        "#plt.title(\"log_daily_views\")\n",
        "sns.boxplot(x= df_filtered['log_daily_views'])\n",
        "\n",
        "plt.subplot(3,4,11)\n",
        "#plt.title(\"log_topics_wise_avg_views\")\n",
        "sns.boxplot(x= df_filtered['log_topics_wise_avg_views'])\n",
        "\n",
        "plt.subplot(3,4,12)\n",
        "#plt.title(\"log_related_views\")\n",
        "sns.boxplot(x= df_filtered['log_related_views'])\n",
        "\n",
        "plt.tight_layout()\n",
        "plt.show()"
      ],
      "metadata": {
        "id": "bE__494EAeS6"
      },
      "execution_count": null,
      "outputs": []
    },
    {
      "cell_type": "markdown",
      "source": [
        "**Removing irrelevent features**"
      ],
      "metadata": {
        "id": "vbzYCaI9Ea9f"
      }
    },
    {
      "cell_type": "code",
      "source": [
        "df_filtered.columns"
      ],
      "metadata": {
        "id": "ky9N5rZ3AeOT"
      },
      "execution_count": null,
      "outputs": []
    },
    {
      "cell_type": "code",
      "source": [
        "unwanted_features=['talk_id', 'title', 'speaker_1', 'all_speakers', 'occupations',\n",
        "       'about_speakers', 'views', 'recorded_date', 'published_date', 'event',\n",
        "       'native_lang', 'available_lang', 'topics',\n",
        "       'related_talks', 'url', 'description', 'transcript', 'comments', 'duration', 'daily_views','speaker_1_avg_views',\n",
        "       'event_wise_avg_views','topics_wise_avg_views','related_views']"
      ],
      "metadata": {
        "id": "x8k3MMjdAeKH"
      },
      "execution_count": null,
      "outputs": []
    },
    {
      "cell_type": "code",
      "source": [
        "df_filtered.drop(columns=unwanted_features,inplace=True)"
      ],
      "metadata": {
        "id": "L6uqJ1FUHHsM"
      },
      "execution_count": null,
      "outputs": []
    },
    {
      "cell_type": "markdown",
      "source": [
        "### **Removing collinearity**"
      ],
      "metadata": {
        "id": "W8yJLL6QDwp7"
      }
    },
    {
      "cell_type": "code",
      "source": [
        "fig, ax = plt.subplots(figsize=(15,10))\n",
        "sns.heatmap(np.abs(df_filtered.corr()), annot= True, cmap= 'GnBu_r',ax=ax)\n",
        "plt.show()"
      ],
      "metadata": {
        "id": "SagzmdhZD6QN"
      },
      "execution_count": null,
      "outputs": []
    },
    {
      "cell_type": "markdown",
      "source": [
        "### **Variance inflation factor analysis**"
      ],
      "metadata": {
        "id": "klX6IRgiIIOv"
      }
    },
    {
      "cell_type": "code",
      "source": [
        "vif_data=df_filtered.drop(['publish_week_day','publish_month','log_daily_views','publish_year','number_of_lang','log_comments','log_related_views','log_topics_wise_avg_views','log_duration','log_event_wise_avg_views'],axis=1)"
      ],
      "metadata": {
        "id": "fWlRIsWKHHVU"
      },
      "execution_count": null,
      "outputs": []
    },
    {
      "cell_type": "code",
      "source": [
        "vif_df=pd.DataFrame()\n",
        "vif_df['features']=vif_data.columns\n",
        "vif_df['VIF']=[variance_inflation_factor(vif_data.values,i) for i in range(vif_data.shape[1])]\n",
        "vif_df"
      ],
      "metadata": {
        "id": "-yq41x8_D6LH"
      },
      "execution_count": null,
      "outputs": []
    },
    {
      "cell_type": "markdown",
      "source": [
        "**We have taken the VIF limit 10**"
      ],
      "metadata": {
        "id": "EyTBaER1Loi9"
      }
    },
    {
      "cell_type": "markdown",
      "source": [
        "### **Lets check for normal distribution of features in data**"
      ],
      "metadata": {
        "id": "qkGuIYKgMdhL"
      }
    },
    {
      "cell_type": "code",
      "source": [
        "# Ploting distributions of features\n",
        "\n",
        "fig = plt.figure(figsize=(10,8))\n",
        "\n",
        "plt.subplot(2,3,1)\n",
        "plt.title(\"time_passed_since_published\")\n",
        "sns.distplot(x= df_filtered['time_passed_since_published'])\n",
        "\n",
        "plt.subplot(2,3,2)\n",
        "plt.title(\"publish_day\")\n",
        "sns.distplot(x= df_filtered['publish_day'])\n",
        "\n",
        "plt.subplot(2,3,3)\n",
        "plt.title(\"num_of_topics\")\n",
        "sns.distplot(x= df_filtered['num_of_topics'])\n",
        "\n",
        "plt.subplot(2,3,4)\n",
        "plt.title(\"log_speaker_1_avg_views\")\n",
        "sns.distplot(x= df_filtered['log_speaker_1_avg_views'])\n",
        "\n",
        "#plt.subplot(2,3,5)\n",
        "#plt.title(\"log_daily_views\")\n",
        "#sns.histplot(x= np.log(df_filtered['related_views']))\n",
        "\n",
        "\n",
        "plt.subplot(2,3,5)\n",
        "plt.title(\"log_daily_views\")\n",
        "sns.distplot(x= df_filtered['log_daily_views'])\n",
        "\n",
        "plt.tight_layout()\n",
        "plt.show()"
      ],
      "metadata": {
        "id": "XQ8q1jH8qjfV"
      },
      "execution_count": null,
      "outputs": []
    },
    {
      "cell_type": "markdown",
      "source": [
        "### **Transformation**"
      ],
      "metadata": {
        "id": "KMcPsP91ii8v"
      }
    },
    {
      "cell_type": "code",
      "source": [
        "# Transformation\n",
        "df_filtered['sqrt_publish_day']=np.sqrt(df_filtered['publish_day'])\n",
        "df_filtered['log_num_of_topics']=np.log(df_filtered['num_of_topics'])\n",
        "df_filtered['log_time_passed_since_published']=np.log(df_filtered['time_passed_since_published'])"
      ],
      "metadata": {
        "id": "lYDMPKrmD51L"
      },
      "execution_count": null,
      "outputs": []
    },
    {
      "cell_type": "code",
      "source": [
        "# Ploting distributions of features\n",
        "\n",
        "fig = plt.figure(figsize=(10,8))\n",
        "\n",
        "plt.subplot(2,3,1)\n",
        "plt.title(\"log_time_passed_since_published\")\n",
        "sns.distplot(x= df_filtered['log_time_passed_since_published'])\n",
        "\n",
        "plt.subplot(2,3,2)\n",
        "plt.title(\"sqrt_publish_day\")\n",
        "sns.distplot(x= df_filtered['sqrt_publish_day'])\n",
        "\n",
        "plt.subplot(2,3,3)\n",
        "plt.title(\"log_num_of_topics\")\n",
        "sns.distplot(x= df_filtered['log_num_of_topics'])\n",
        "\n",
        "plt.subplot(2,3,4)\n",
        "plt.title(\"log_speaker_1_avg_views\")\n",
        "sns.distplot(x= df_filtered['log_speaker_1_avg_views'])\n",
        "\n",
        "#plt.subplot(2,3,5)\n",
        "#plt.title(\"log_daily_views\")\n",
        "#sns.histplot(x= np.log(df_filtered['related_views']))\n",
        "\n",
        "\n",
        "plt.subplot(2,3,5)\n",
        "plt.title(\"log_daily_views\")\n",
        "sns.distplot(x= df_filtered['log_daily_views'])\n",
        "\n",
        "plt.tight_layout()\n",
        "plt.show()"
      ],
      "metadata": {
        "id": "i1RcwdUhvXZ0"
      },
      "execution_count": null,
      "outputs": []
    },
    {
      "cell_type": "code",
      "source": [
        "df_filtered.columns"
      ],
      "metadata": {
        "id": "973cDBdzcky2"
      },
      "execution_count": null,
      "outputs": []
    },
    {
      "cell_type": "code",
      "source": [
        "data=df_filtered.drop(['log_topics_wise_avg_views','time_passed_since_published','publish_year','log_duration','log_comments','log_event_wise_avg_views','number_of_lang','publish_day','num_of_topics','log_related_views'],axis=1)"
      ],
      "metadata": {
        "id": "VVn5HDJLD5cc"
      },
      "execution_count": null,
      "outputs": []
    },
    {
      "cell_type": "code",
      "source": [
        "data.columns"
      ],
      "metadata": {
        "id": "ubcjj9fWD5X_"
      },
      "execution_count": null,
      "outputs": []
    },
    {
      "cell_type": "markdown",
      "source": [
        "#**Lets start the model preparation.** "
      ],
      "metadata": {
        "id": "DB6lwYk-ji8m"
      }
    },
    {
      "cell_type": "code",
      "source": [
        "data['log_daily_views'].describe()"
      ],
      "metadata": {
        "id": "LQHhQHBamM60"
      },
      "execution_count": null,
      "outputs": []
    },
    {
      "cell_type": "markdown",
      "source": [
        "###**Removing null values from dataset**"
      ],
      "metadata": {
        "id": "1rBV0VT2iv30"
      }
    },
    {
      "cell_type": "code",
      "source": [
        "data=data.dropna()"
      ],
      "metadata": {
        "id": "TNnvJ0FHrOlP"
      },
      "execution_count": null,
      "outputs": []
    },
    {
      "cell_type": "markdown",
      "source": [
        "### **Introducing dummy variables for Catagorical features**"
      ],
      "metadata": {
        "id": "84C2RszOk7Fv"
      }
    },
    {
      "cell_type": "code",
      "source": [
        "data_dummy=pd.get_dummies(data,drop_first=True)\n",
        "data_dummy.shape"
      ],
      "metadata": {
        "id": "43IkaDMUckgF"
      },
      "execution_count": null,
      "outputs": []
    },
    {
      "cell_type": "markdown",
      "source": [
        "## **Defining dependent and independent features**"
      ],
      "metadata": {
        "id": "wUJhJW2wkhEM"
      }
    },
    {
      "cell_type": "code",
      "source": [
        "y=data_dummy['log_daily_views']\n",
        "X=data_dummy.drop(columns='log_daily_views')"
      ],
      "metadata": {
        "id": "Zv6LCnOqckkP"
      },
      "execution_count": null,
      "outputs": []
    },
    {
      "cell_type": "code",
      "source": [
        "X.head()"
      ],
      "metadata": {
        "id": "m8IgyucOckb2"
      },
      "execution_count": null,
      "outputs": []
    },
    {
      "cell_type": "markdown",
      "source": [
        "### **Next we will standardize the features**"
      ],
      "metadata": {
        "id": "ON9iA9w_ljvP"
      }
    },
    {
      "cell_type": "code",
      "source": [
        "scaler=StandardScaler()\n",
        "scaler.fit(X)\n",
        "x=scaler.transform(X)"
      ],
      "metadata": {
        "id": "r9MvoJYDckY1"
      },
      "execution_count": null,
      "outputs": []
    },
    {
      "cell_type": "markdown",
      "source": [
        "###**Lets split the data into training and testing** "
      ],
      "metadata": {
        "id": "cbSloaNZpYNN"
      }
    },
    {
      "cell_type": "code",
      "source": [
        "# Spliting dataset into training and test\n",
        "x_train,x_test,y_train,y_test=train_test_split(x,y,test_size=0.2,random_state=42)"
      ],
      "metadata": {
        "id": "lHDMPxdrckVn"
      },
      "execution_count": null,
      "outputs": []
    },
    {
      "cell_type": "markdown",
      "source": [
        "## **Implementing Linear Regression Training Model**"
      ],
      "metadata": {
        "id": "sPDhjwsmjVqk"
      }
    },
    {
      "cell_type": "code",
      "source": [
        "# Regression\n",
        "reg=LinearRegression()\n",
        "reg.fit(x_train,y_train)"
      ],
      "metadata": {
        "id": "Sb6OBtAhckFB"
      },
      "execution_count": null,
      "outputs": []
    },
    {
      "cell_type": "markdown",
      "source": [
        "### **Model Accuracy on train data**"
      ],
      "metadata": {
        "id": "mQKkDuyGjvUb"
      }
    },
    {
      "cell_type": "code",
      "source": [
        "yhat=reg.predict(x_train)"
      ],
      "metadata": {
        "id": "0YyVf5RMptA2"
      },
      "execution_count": null,
      "outputs": []
    },
    {
      "cell_type": "code",
      "source": [
        "plt.scatter(y_train,yhat)\n",
        "plt.xlabel('Target(y_train)',fontsize=20)\n",
        "plt.ylabel('Predictions(yhat)',fontsize=20)\n",
        "plt.title('Prediction VS Target',fontsize=20)\n",
        "plt.show()"
      ],
      "metadata": {
        "id": "g_bcHVxxps-G"
      },
      "execution_count": null,
      "outputs": []
    },
    {
      "cell_type": "markdown",
      "source": [
        "### **Scatter plot must be as close to the 45 degree line from origin as possible for best predictions**"
      ],
      "metadata": {
        "id": "vyhgnDeg1iTe"
      }
    },
    {
      "cell_type": "code",
      "source": [
        "# Other way to judge the model\n",
        "sns.distplot(y_train-yhat)\n",
        "plt.title('Residual PDF',fontsize=15)\n",
        "plt.show()"
      ],
      "metadata": {
        "id": "nkARGNRCps7j"
      },
      "execution_count": null,
      "outputs": []
    },
    {
      "cell_type": "markdown",
      "source": [
        "### **Model Evaluation metrics**"
      ],
      "metadata": {
        "id": "ij2LogWonKGJ"
      }
    },
    {
      "cell_type": "code",
      "source": [
        "# R-square to explain the variability our model id able to explain\n",
        "R2=reg.score(x_train,y_train)\n",
        "R2\n"
      ],
      "metadata": {
        "id": "bTzN2Q9Oc0WW"
      },
      "execution_count": null,
      "outputs": []
    },
    {
      "cell_type": "code",
      "source": [
        "# Adjusted R-square\n",
        "n=len(x_train)\n",
        "p=x_train.shape[1]\n",
        "adj_r_sqr=1-((1-reg.score(x_train,y_train))*(n-1)/(n-p-1))\n",
        "adj_r_sqr"
      ],
      "metadata": {
        "id": "HIjeEaFHdCnR"
      },
      "execution_count": null,
      "outputs": []
    },
    {
      "cell_type": "code",
      "source": [
        "variability_df=pd.DataFrame({\"R-Square\":R2,\"Adjusted R-Square\":adj_r_sqr},index=[\"Values\"])\n",
        "variability_df"
      ],
      "metadata": {
        "id": "kDubBfBqfbDA"
      },
      "execution_count": null,
      "outputs": []
    },
    {
      "cell_type": "markdown",
      "source": [
        "## **Lets see the model Parameters**"
      ],
      "metadata": {
        "id": "GUNfdyQRnpmq"
      }
    },
    {
      "cell_type": "markdown",
      "source": [
        "### **Intercept**"
      ],
      "metadata": {
        "id": "QexUwEWzp2hI"
      }
    },
    {
      "cell_type": "code",
      "source": [
        "reg.intercept_"
      ],
      "metadata": {
        "id": "j1m4XUccp8-j"
      },
      "execution_count": null,
      "outputs": []
    },
    {
      "cell_type": "markdown",
      "source": [
        "### **Rest of the parameters**"
      ],
      "metadata": {
        "id": "57UkpuonqArQ"
      }
    },
    {
      "cell_type": "code",
      "source": [
        "summary=pd.DataFrame({'Features':X.columns,'Weight':reg.coef_})\n",
        "summary"
      ],
      "metadata": {
        "id": "f0oPeutVdu1e"
      },
      "execution_count": null,
      "outputs": []
    },
    {
      "cell_type": "markdown",
      "source": [
        "#***Wieghts Interpretation***\n",
        "##***Continuous Variable***\n",
        "### 1. A ***positive wieght*** shows that as the feature increases in values so does the daily_views and log_daily_views variables.\n",
        "### 2. A ***negative wieght*** shows that as the feature increases in values the daily_views and log_daily_views variables decreses in values.\n",
        "\n",
        "##***Dummy Variables***\n",
        "### 1. A ***positive wieght*** shows that the respective catagory is more expensive than the benchmark\n",
        "### 2. A ***positive wieght*** shows that the respective catagory is less expensive than the benchmark"
      ],
      "metadata": {
        "id": "05sme7MGfKkT"
      }
    },
    {
      "cell_type": "markdown",
      "source": [
        "#**Testing**"
      ],
      "metadata": {
        "id": "An_MI9kD1T4C"
      }
    },
    {
      "cell_type": "code",
      "source": [
        "yhat_test=reg.predict(x_test)\n",
        "plt.scatter(y_test,yhat_test,alpha=0.2)\n",
        "plt.xlabel('Expected',fontsize=20)\n",
        "plt.ylabel('Predicted',fontsize=20)\n",
        "plt.title('Daily Views (Prediction / Expected)',fontsize=20)\n",
        "plt.show()"
      ],
      "metadata": {
        "id": "Cg8mjHhHefo_"
      },
      "execution_count": null,
      "outputs": []
    },
    {
      "cell_type": "code",
      "source": [
        "plt.figure(figsize=(8,5))\n",
        "plt.plot(np.exp(yhat_test))\n",
        "plt.plot(np.array(np.exp(y_test)))\n",
        "plt.legend([\"Predicted\",\"Actual\"])\n",
        "plt.show()"
      ],
      "metadata": {
        "id": "9Jd-Lp4B573p"
      },
      "execution_count": null,
      "outputs": []
    },
    {
      "cell_type": "code",
      "source": [
        "pf_df=pd.DataFrame({'Predictions':np.exp(yhat_test)})\n",
        "pf_df.head()"
      ],
      "metadata": {
        "id": "NPvox2IS2FuM"
      },
      "execution_count": null,
      "outputs": []
    },
    {
      "cell_type": "code",
      "source": [
        "y_test=y_test.reset_index(drop=True)\n",
        "pf_df['Target(expected values)']=np.exp(y_test)"
      ],
      "metadata": {
        "id": "mq8c5ejB4KnM"
      },
      "execution_count": null,
      "outputs": []
    },
    {
      "cell_type": "code",
      "source": [
        "pf_df.head()"
      ],
      "metadata": {
        "id": "FuNvXeDY5G7c"
      },
      "execution_count": null,
      "outputs": []
    },
    {
      "cell_type": "code",
      "source": [
        "pf_df['Residual']=pf_df['Target(expected values)']-pf_df['Predictions']\n",
        "pf_df['Difference_percentage']=np.absolute(pf_df['Residual']/pf_df['Target(expected values)']*100)\n",
        "pf_df.describe()"
      ],
      "metadata": {
        "id": "JKHxUe025Jw0"
      },
      "execution_count": null,
      "outputs": []
    },
    {
      "cell_type": "markdown",
      "source": [
        "###**Error percentage is very less between 25 quartile to 75 quartile that shows our model is working very good on test data.**"
      ],
      "metadata": {
        "id": "8pQ2UhIvqtdl"
      }
    },
    {
      "cell_type": "markdown",
      "source": [
        "## **Error metrices**"
      ],
      "metadata": {
        "id": "4Ut6lz18P_F1"
      }
    },
    {
      "cell_type": "code",
      "source": [
        "MSE=mean_squared_error(np.exp(y_test), np.exp(yhat_test))"
      ],
      "metadata": {
        "id": "1iHUCwmjQfej"
      },
      "execution_count": null,
      "outputs": []
    },
    {
      "cell_type": "code",
      "metadata": {
        "id": "lJUpat5kjCxO"
      },
      "source": [
        "RMSE=math.sqrt(mean_squared_error(np.exp(y_test), np.exp(yhat_test)))"
      ],
      "execution_count": null,
      "outputs": []
    },
    {
      "cell_type": "code",
      "metadata": {
        "id": "Pk6KKEbFpMek"
      },
      "source": [
        "# Mean Absolute Error\n",
        "sum = 0\n",
        "n=len(y_test)\n",
        "# for loop for iteration\n",
        "for ele in range(n):\n",
        "    sum += abs(np.exp(y_test[ele]) - np.exp(yhat_test[ele]))\n",
        "  \n",
        "MAE = sum/n\n",
        "  \n",
        "# display\n",
        "print(\"Mean absolute error : \" + str(MAE))"
      ],
      "execution_count": null,
      "outputs": []
    },
    {
      "cell_type": "code",
      "source": [
        "MAPE=mean_absolute_percentage_error(np.exp(y_test),np.exp(yhat_test))"
      ],
      "metadata": {
        "id": "yxTHynJW7LIS"
      },
      "execution_count": null,
      "outputs": []
    },
    {
      "cell_type": "code",
      "source": [
        "r2 = r2_score(np.exp(y_test), np.exp(yhat_test))\n",
        "ar2=1-(1-r2_score(np.exp(y_test), np.exp(yhat_test)))*((x_test.shape[0]-1)/(x_test.shape[0]-x_test.shape[1]-1))"
      ],
      "metadata": {
        "id": "G_2CDlMf41WF"
      },
      "execution_count": null,
      "outputs": []
    },
    {
      "cell_type": "code",
      "source": [
        "error_metric=pd.DataFrame({'Values':[r2,ar2,MSE,RMSE,MAE,MAPE]},index=['R-Square','Adj. R-Square','MSE','RMSE','MAE','MAPE'])\n",
        "error_metric"
      ],
      "metadata": {
        "id": "a6HQwV8MRUhd"
      },
      "execution_count": null,
      "outputs": []
    },
    {
      "cell_type": "markdown",
      "source": [
        "###**Error metrices show the same observation of low error in the test dataset**"
      ],
      "metadata": {
        "id": "qJh0fDpTrpe3"
      }
    },
    {
      "cell_type": "markdown",
      "source": [
        "#**Lets check for overfitting in our model** "
      ],
      "metadata": {
        "id": "oKDGwBvTr9HE"
      }
    },
    {
      "cell_type": "markdown",
      "source": [
        "## <b>Lasso Regression Model</b>\n",
        "####  **Running Grid Search Cross Validation**"
      ],
      "metadata": {
        "id": "aJ4MTxflRUDn"
      }
    },
    {
      "cell_type": "code",
      "source": [
        "### Cross validation\n",
        "lasso = Lasso()\n",
        "parameters = {'alpha': [1e-15,1e-13,1e-10,1e-8,1e-5,1e-4,1e-3,1e-2,1e-1,1,5,10,20,30,40,45,50,55,60,100]}\n",
        "lasso_regressor = GridSearchCV(lasso, parameters, scoring='neg_mean_squared_error', cv=5)\n",
        "lasso_regressor.fit(x_train, y_train)"
      ],
      "metadata": {
        "id": "E7a3MZlfAJQ8"
      },
      "execution_count": null,
      "outputs": []
    },
    {
      "cell_type": "code",
      "source": [
        "print(\"The best fit alpha value is found out to be :\" ,lasso_regressor.best_params_)\n",
        "print(\"\\nUsing \",lasso_regressor.best_params_, \" the negative mean squared error is: \", lasso_regressor.best_score_)"
      ],
      "metadata": {
        "id": "vG9vaBNT82MD"
      },
      "execution_count": null,
      "outputs": []
    },
    {
      "cell_type": "code",
      "metadata": {
        "id": "jGhoOOC1uIbp"
      },
      "source": [
        "y_pred_lasso = lasso_regressor.predict(x_test)"
      ],
      "execution_count": null,
      "outputs": []
    },
    {
      "cell_type": "code",
      "metadata": {
        "id": "molG1nVVup0c"
      },
      "source": [
        "plt.figure(figsize=(15,6))\n",
        "plt.subplot(1,2,1)\n",
        "plt.plot(np.exp(y_pred_lasso))\n",
        "plt.plot(np.exp(np.array(y_test)))\n",
        "plt.legend([\"Predicted\",\"Expected\"])\n",
        "plt.title('Daily Views (Prediction / Expected)',fontsize=20)\n",
        "\n",
        "plt.subplot(1,2,2)\n",
        "yhat_test=reg.predict(x_test)\n",
        "plt.scatter(y_test,y_pred_lasso,alpha=0.2)\n",
        "plt.xlabel('Expected',fontsize=20)\n",
        "plt.ylabel('Predicted',fontsize=20)\n",
        "plt.title('Daily Views (Prediction / Expected)',fontsize=20)\n",
        "\n",
        "plt.tight_layout()\n",
        "plt.show()"
      ],
      "execution_count": null,
      "outputs": []
    },
    {
      "cell_type": "code",
      "source": [
        "MSE=mean_squared_error(np.exp(y_test), np.exp(y_pred_lasso))"
      ],
      "metadata": {
        "id": "CRir9SXD_5sG"
      },
      "execution_count": null,
      "outputs": []
    },
    {
      "cell_type": "code",
      "metadata": {
        "id": "Mws1RKqT_5sH"
      },
      "source": [
        "RMSE=math.sqrt(mean_squared_error(np.exp(y_test), np.exp(y_pred_lasso)))"
      ],
      "execution_count": null,
      "outputs": []
    },
    {
      "cell_type": "code",
      "metadata": {
        "id": "CAt3YK5k_5sI"
      },
      "source": [
        "# Mean Absolute Error\n",
        "sum = 0\n",
        "n=len(y_test)\n",
        "# for loop for iteration\n",
        "for ele in range(n):\n",
        "    sum += abs(np.exp(y_test[ele]) - np.exp(y_pred_lasso[ele]))\n",
        "  \n",
        "MAE = sum/n\n",
        "  \n",
        "# display\n",
        "print(\"Mean absolute error : \" + str(MAE))"
      ],
      "execution_count": null,
      "outputs": []
    },
    {
      "cell_type": "code",
      "source": [
        "MAPE=mean_absolute_percentage_error(np.exp(y_test),np.exp(y_pred_lasso))"
      ],
      "metadata": {
        "id": "IAicMzON_5sI"
      },
      "execution_count": null,
      "outputs": []
    },
    {
      "cell_type": "code",
      "source": [
        "r2 = r2_score(np.exp(y_test), np.exp(y_pred_lasso))\n",
        "ar2=1-(1-r2_score(np.exp(y_test), np.exp(y_pred_lasso)))*((x_test.shape[0]-1)/(x_test.shape[0]-x_test.shape[1]-1))"
      ],
      "metadata": {
        "id": "TecNmq6B_5sJ"
      },
      "execution_count": null,
      "outputs": []
    },
    {
      "cell_type": "code",
      "source": [
        "error_metric_lasso=pd.DataFrame({'Values':[r2,ar2,MSE,RMSE,MAE,MAPE]},index=['R-Square','Adj. R-Square','MSE','RMSE','MAE','MAPE'])\n",
        "error_metric_lasso"
      ],
      "metadata": {
        "id": "n4j00G0C_5sJ"
      },
      "execution_count": null,
      "outputs": []
    },
    {
      "cell_type": "markdown",
      "metadata": {
        "id": "wRTOc9MFTs8N"
      },
      "source": [
        "## <b>Ridge Regression Model</b>\n",
        "####  **Running Grid Search Cross Validation**"
      ]
    },
    {
      "cell_type": "code",
      "metadata": {
        "id": "I3yjCRxwvBKC"
      },
      "source": [
        "# Hyperprarameter tuning\n",
        "ridge = Ridge()\n",
        "parameters = {'alpha': [1e-15,1e-10,1e-8,1e-5,1e-4,1e-3,1e-2,1,5,10,20,30,40,45,50,55,60,100]}\n",
        "ridge_regressor = GridSearchCV(ridge, parameters, scoring='neg_mean_squared_error', cv=5)\n",
        "ridge_regressor.fit(x_train,y_train)"
      ],
      "execution_count": null,
      "outputs": []
    },
    {
      "cell_type": "code",
      "metadata": {
        "id": "p-Xal433vBBJ"
      },
      "source": [
        "print(\"The best fit alpha value is found out to be :\" ,ridge_regressor.best_params_)\n",
        "print(\"\\nUsing \",ridge_regressor.best_params_, \" the negative mean squared error is: \", ridge_regressor.best_score_)"
      ],
      "execution_count": null,
      "outputs": []
    },
    {
      "cell_type": "code",
      "metadata": {
        "id": "2SGFL60dvA95"
      },
      "source": [
        "#Model Prediction\n",
        "y_pred_ridge = ridge_regressor.predict(x_test)"
      ],
      "execution_count": null,
      "outputs": []
    },
    {
      "cell_type": "code",
      "metadata": {
        "id": "gpG_ExDCB4-w"
      },
      "source": [
        "plt.figure(figsize=(15,6))\n",
        "plt.subplot(1,2,1)\n",
        "plt.plot(np.exp(y_pred_ridge))\n",
        "plt.plot(np.exp(np.array(y_test)))\n",
        "plt.legend([\"Predicted\",\"Expected\"])\n",
        "plt.title('Daily Views (Prediction / Expected)',fontsize=20)\n",
        "\n",
        "plt.subplot(1,2,2)\n",
        "yhat_test=reg.predict(x_test)\n",
        "plt.scatter(y_test,y_pred_ridge,alpha=0.2)\n",
        "plt.xlabel('Expected',fontsize=20)\n",
        "plt.ylabel('Predicted',fontsize=20)\n",
        "plt.title('Daily Views (Prediction / Expected)',fontsize=20)\n",
        "\n",
        "plt.tight_layout()\n",
        "plt.show()"
      ],
      "execution_count": null,
      "outputs": []
    },
    {
      "cell_type": "code",
      "source": [
        "MSE=mean_squared_error(np.exp(y_test), np.exp(y_pred_ridge))"
      ],
      "metadata": {
        "id": "LBl8skznB4-y"
      },
      "execution_count": null,
      "outputs": []
    },
    {
      "cell_type": "code",
      "metadata": {
        "id": "6h8kvkN0B4-z"
      },
      "source": [
        "RMSE=math.sqrt(mean_squared_error(np.exp(y_test), np.exp(y_pred_ridge)))"
      ],
      "execution_count": null,
      "outputs": []
    },
    {
      "cell_type": "code",
      "metadata": {
        "id": "aAmPyvnmB4-z"
      },
      "source": [
        "# Mean Absolute Error\n",
        "sum = 0\n",
        "n=len(y_test)\n",
        "# for loop for iteration\n",
        "for ele in range(n):\n",
        "    sum += abs(np.exp(y_test[ele]) - np.exp(y_pred_ridge[ele]))\n",
        "  \n",
        "MAE = sum/n\n",
        "  \n",
        "# display\n",
        "print(\"Mean absolute error : \" + str(MAE))"
      ],
      "execution_count": null,
      "outputs": []
    },
    {
      "cell_type": "code",
      "source": [
        "MAPE=mean_absolute_percentage_error(np.exp(y_test),np.exp(y_pred_ridge))"
      ],
      "metadata": {
        "id": "GpTda5BtB4-0"
      },
      "execution_count": null,
      "outputs": []
    },
    {
      "cell_type": "code",
      "source": [
        "r2 = r2_score(np.exp(y_test), np.exp(y_pred_ridge))\n",
        "ar2=1-(1-r2_score(np.exp(y_test), np.exp(y_pred_ridge)))*((x_test.shape[0]-1)/(x_test.shape[0]-x_test.shape[1]-1))"
      ],
      "metadata": {
        "id": "NHL4UOkCB4-1"
      },
      "execution_count": null,
      "outputs": []
    },
    {
      "cell_type": "code",
      "source": [
        "error_metric_ridge=pd.DataFrame({'Values':[r2,ar2,MSE,RMSE,MAE,MAPE]},index=['R-Square','Adj. R-Square','MSE','RMSE','MAE','MAPE'])\n",
        "error_metric_ridge"
      ],
      "metadata": {
        "id": "vuj3ZJeEB4-1"
      },
      "execution_count": null,
      "outputs": []
    },
    {
      "cell_type": "markdown",
      "metadata": {
        "id": "Y_wSBPUvT2hj"
      },
      "source": [
        "## <b>Elastic Regression Model</b>\n",
        "####  **Running Grid Search Cross Validation**"
      ]
    },
    {
      "cell_type": "code",
      "metadata": {
        "id": "BBH3_21NruQt"
      },
      "source": [
        "elastic = ElasticNet()\n",
        "parameters = {'alpha': [1e-15,1e-13,1e-10,1e-8,1e-5,1e-4,1e-3,1e-2,1e-1,1,5,10,20,30,40,45,50,55,60,100],'l1_ratio':[0.3,0.4,0.5,0.6,0.7,0.8]}\n",
        "elastic_regressor = GridSearchCV(elastic, parameters, scoring='neg_mean_squared_error',cv=5)\n",
        "elastic_regressor.fit(x_train, y_train)"
      ],
      "execution_count": null,
      "outputs": []
    },
    {
      "cell_type": "code",
      "metadata": {
        "id": "tVWbBepfwq2Y"
      },
      "source": [
        "print(\"The best fit alpha value is found out to be :\" ,elastic_regressor.best_params_)\n",
        "print(\"\\nUsing \",elastic_regressor.best_params_, \" the negative mean squared error is: \", elastic_regressor.best_score_)"
      ],
      "execution_count": null,
      "outputs": []
    },
    {
      "cell_type": "code",
      "metadata": {
        "id": "jMwXROOUwccO"
      },
      "source": [
        "y_pred_elastic = elastic_regressor.predict(x_test)"
      ],
      "execution_count": null,
      "outputs": []
    },
    {
      "cell_type": "code",
      "metadata": {
        "id": "N8MrjUkQEC2Z"
      },
      "source": [
        "plt.figure(figsize=(15,6))\n",
        "plt.subplot(1,2,1)\n",
        "plt.plot(np.exp(y_pred_elastic))\n",
        "plt.plot(np.exp(np.array(y_test)))\n",
        "plt.legend([\"Predicted\",\"Expected\"])\n",
        "plt.title('Daily Views (Prediction / Expected)',fontsize=20)\n",
        "\n",
        "plt.subplot(1,2,2)\n",
        "yhat_test=reg.predict(x_test)\n",
        "plt.scatter(y_test,y_pred_elastic,alpha=0.2)\n",
        "plt.xlabel('Expected',fontsize=20)\n",
        "plt.ylabel('Predicted',fontsize=20)\n",
        "plt.title('Daily Views (Prediction / Expected)',fontsize=20)\n",
        "\n",
        "plt.tight_layout()\n",
        "plt.show()"
      ],
      "execution_count": null,
      "outputs": []
    },
    {
      "cell_type": "code",
      "source": [
        "MSE=mean_squared_error(np.exp(y_test), np.exp(y_pred_elastic))"
      ],
      "metadata": {
        "id": "NBc3xElPEC2a"
      },
      "execution_count": null,
      "outputs": []
    },
    {
      "cell_type": "code",
      "metadata": {
        "id": "NiOBNa5CEC2b"
      },
      "source": [
        "RMSE=math.sqrt(mean_squared_error(np.exp(y_test), np.exp(y_pred_elastic)))"
      ],
      "execution_count": null,
      "outputs": []
    },
    {
      "cell_type": "code",
      "metadata": {
        "id": "s7HUSBkSEC2c"
      },
      "source": [
        "# Mean Absolute Error\n",
        "sum = 0\n",
        "n=len(y_test)\n",
        "# for loop for iteration\n",
        "for ele in range(n):\n",
        "    sum += abs(np.exp(y_test[ele]) - np.exp(y_pred_elastic[ele]))\n",
        "  \n",
        "MAE = sum/n\n",
        "  \n",
        "# display\n",
        "print(\"Mean absolute error : \" + str(MAE))"
      ],
      "execution_count": null,
      "outputs": []
    },
    {
      "cell_type": "code",
      "source": [
        "MAPE=mean_absolute_percentage_error(np.exp(y_test),np.exp(y_pred_elastic))"
      ],
      "metadata": {
        "id": "qzeczkfXEC2d"
      },
      "execution_count": null,
      "outputs": []
    },
    {
      "cell_type": "code",
      "source": [
        "r2 = r2_score(np.exp(y_test), np.exp(y_pred_elastic))\n",
        "ar2=1-(1-r2_score(np.exp(y_test), np.exp(y_pred_elastic)))*((x_test.shape[0]-1)/(x_test.shape[0]-x_test.shape[1]-1))"
      ],
      "metadata": {
        "id": "VDrZ5-LaEC2d"
      },
      "execution_count": null,
      "outputs": []
    },
    {
      "cell_type": "code",
      "source": [
        "error_metric_Elastic=pd.DataFrame({'Values':[r2,ar2,MSE,RMSE,MAE,MAPE]},index=['R-Square','Adj. R-Square','MSE','RMSE','MAE','MAPE'])\n",
        "error_metric_ridge"
      ],
      "metadata": {
        "id": "TsVPPmJtEC2e"
      },
      "execution_count": null,
      "outputs": []
    },
    {
      "cell_type": "code",
      "source": [
        "Model_Summary=pd.DataFrame({'Linear Regression':error_metric['Values'],'Lasso':error_metric_lasso['Values'],'Ridge':error_metric_ridge['Values'],'Elastic':error_metric_Elastic['Values']},index=['R-Square','Adj. R-Square','MSE','RMSE','MAE','MAPE'])"
      ],
      "metadata": {
        "id": "RrEPGZLVpsye"
      },
      "execution_count": null,
      "outputs": []
    },
    {
      "cell_type": "code",
      "source": [
        "Model_Summary"
      ],
      "metadata": {
        "id": "qxxYFycxpsgg"
      },
      "execution_count": null,
      "outputs": []
    },
    {
      "cell_type": "markdown",
      "source": [
        "##**On comparing all the models our base linear regression model is still is performing better followed by Lasso, Ridge and ElasticNet Regression model on the basis of RMSE. But our model contains large number of outliers and the value of RMSE is affected by outliers therefore we will use MAE as our evaluation matrix according to which *Lasso Regressor* has the best performance**"
      ],
      "metadata": {
        "id": "Ibpe4FHCt3gh"
      }
    },
    {
      "cell_type": "markdown",
      "source": [
        "# **Conclusion**"
      ],
      "metadata": {
        "id": "7dJCdBWLtt4e"
      }
    },
    {
      "cell_type": "markdown",
      "source": [
        "**That's it we have reached the end of this project. We started the project with Data Exploration in which we faced many challenges as dataset included data in many different data structures which was bit complicated to extract but the most challenging part of EDA was dealing catagorical variables, it took lot of research to deal with such large number of catagorical variables. Following EDA we performed feature engineering, data cleaning, target encoding and one hot encoding of categorical columns, feature selection and then model building.**\n",
        "\n",
        "**Then we checked our model for overfitting by comparing it with Lasso Regression model, Ridge Regression model, ElasticNet Regression model.**\n",
        "\n",
        "**We found that our orignal base model was overfit and Lasso Regressor has the best accuracy.**\n",
        "\n",
        "**In all of these models our mean errors have been around 34 % but we will consider the median error percentage, which is 13 %, to measure the accuracy because of the outliers. That implies we have been able to correctly predict views 87 % of the time.**\n",
        "\n",
        "**After hyper parameter tuning, we have prevented overfitting and decreased errors by regularizing.**\n",
        "\n",
        "**Given that only have 13 % errors, our models have performed very well on unseen data due to various factors like effecive EDA,feature selection,correct model selection.**\n",
        "\n",
        "**In all the features speaker_1_avg_views is most important this implies that speakers are directly impacting the views.**\n",
        "\n",
        "**Future Work**\n",
        "\n",
        "*   **Training our data on other models (XGB, Random Forest, etc)**\n",
        "*   **More efficiant Hyperparameter Tuning through techniques like Random Search**\n",
        "\n",
        "\n"
      ],
      "metadata": {
        "id": "2HQOVCmCvsek"
      }
    }
  ]
}